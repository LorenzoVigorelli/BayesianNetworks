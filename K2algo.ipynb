{
 "cells": [
  {
   "cell_type": "code",
   "execution_count": 10,
   "metadata": {
    "vscode": {
     "languageId": "r"
    }
   },
   "outputs": [],
   "source": [
    "library(dplyr)\n",
    "library(bnlearn)\n",
    "library(Rgraphviz)"
   ]
  },
  {
   "cell_type": "code",
   "execution_count": 11,
   "metadata": {
    "vscode": {
     "languageId": "r"
    }
   },
   "outputs": [
    {
     "data": {
      "text/html": [
       "<table class=\"dataframe\">\n",
       "<caption>A data.frame: 10 × 3</caption>\n",
       "<thead>\n",
       "\t<tr><th scope=col>X1</th><th scope=col>X2</th><th scope=col>X3</th></tr>\n",
       "\t<tr><th scope=col>&lt;dbl&gt;</th><th scope=col>&lt;dbl&gt;</th><th scope=col>&lt;dbl&gt;</th></tr>\n",
       "</thead>\n",
       "<tbody>\n",
       "\t<tr><td>1</td><td>0</td><td>0</td></tr>\n",
       "\t<tr><td>1</td><td>1</td><td>1</td></tr>\n",
       "\t<tr><td>0</td><td>0</td><td>1</td></tr>\n",
       "\t<tr><td>1</td><td>1</td><td>1</td></tr>\n",
       "\t<tr><td>0</td><td>0</td><td>0</td></tr>\n",
       "\t<tr><td>0</td><td>1</td><td>1</td></tr>\n",
       "\t<tr><td>1</td><td>1</td><td>1</td></tr>\n",
       "\t<tr><td>0</td><td>0</td><td>0</td></tr>\n",
       "\t<tr><td>1</td><td>1</td><td>1</td></tr>\n",
       "\t<tr><td>0</td><td>0</td><td>0</td></tr>\n",
       "</tbody>\n",
       "</table>\n"
      ],
      "text/latex": [
       "A data.frame: 10 × 3\n",
       "\\begin{tabular}{lll}\n",
       " X1 & X2 & X3\\\\\n",
       " <dbl> & <dbl> & <dbl>\\\\\n",
       "\\hline\n",
       "\t 1 & 0 & 0\\\\\n",
       "\t 1 & 1 & 1\\\\\n",
       "\t 0 & 0 & 1\\\\\n",
       "\t 1 & 1 & 1\\\\\n",
       "\t 0 & 0 & 0\\\\\n",
       "\t 0 & 1 & 1\\\\\n",
       "\t 1 & 1 & 1\\\\\n",
       "\t 0 & 0 & 0\\\\\n",
       "\t 1 & 1 & 1\\\\\n",
       "\t 0 & 0 & 0\\\\\n",
       "\\end{tabular}\n"
      ],
      "text/markdown": [
       "\n",
       "A data.frame: 10 × 3\n",
       "\n",
       "| X1 &lt;dbl&gt; | X2 &lt;dbl&gt; | X3 &lt;dbl&gt; |\n",
       "|---|---|---|\n",
       "| 1 | 0 | 0 |\n",
       "| 1 | 1 | 1 |\n",
       "| 0 | 0 | 1 |\n",
       "| 1 | 1 | 1 |\n",
       "| 0 | 0 | 0 |\n",
       "| 0 | 1 | 1 |\n",
       "| 1 | 1 | 1 |\n",
       "| 0 | 0 | 0 |\n",
       "| 1 | 1 | 1 |\n",
       "| 0 | 0 | 0 |\n",
       "\n"
      ],
      "text/plain": [
       "   X1 X2 X3\n",
       "1  1  0  0 \n",
       "2  1  1  1 \n",
       "3  0  0  1 \n",
       "4  1  1  1 \n",
       "5  0  0  0 \n",
       "6  0  1  1 \n",
       "7  1  1  1 \n",
       "8  0  0  0 \n",
       "9  1  1  1 \n",
       "10 0  0  0 "
      ]
     },
     "metadata": {},
     "output_type": "display_data"
    }
   ],
   "source": [
    "records <- c(1,0,0,1,1,1,0,0,1,1,1,1,0,0,0,0,1,1,1,1,1,0,0,0,1,1,1,0,0,0)\n",
    "data  <- data.frame(matrix(records, 10,3, byrow=TRUE))\n",
    "\n",
    "data"
   ]
  },
  {
   "cell_type": "code",
   "execution_count": 12,
   "metadata": {
    "vscode": {
     "languageId": "r"
    }
   },
   "outputs": [],
   "source": [
    "scoring_function <- function(data, x_i, parents){\n",
    "  # Find the possible values of the attribute i\n",
    "  r_i <- data |> distinct(data[[x_i]]) |> nrow()\n",
    "\n",
    "  if (length(parents) == 0){\n",
    "    N <- nrow(data)\n",
    "\n",
    "    num1 <- data |> \n",
    "      group_by(data[[x_i]]) |> \n",
    "      count() |> \n",
    "      mutate(a = factorial(n)) |> \n",
    "      ungroup() |> \n",
    "      pull(a) |>\n",
    "      prod()\n",
    "\n",
    "    # To do consistently with the other case\n",
    "  } else {\n",
    "    alpha <- data |> group_by(data[c(x_i, parents)]) |> count()\n",
    "\n",
    "    N <- alpha |> group_by(alpha[parents]) |> \n",
    "      summarise(N = sum(n), .groups = \"drop\") |> \n",
    "      select(N)\n",
    "\n",
    "    num1 <- alpha |>\n",
    "      group_by(alpha[parents]) |>\n",
    "      summarise(alpha = prod(factorial(n)), .groups = \"drop\") |>\n",
    "      pull(alpha)\n",
    "  }\n",
    "\n",
    "  # Calculate the score\n",
    "  den <- sapply(N, function(x, r) factorial(x + r - 1), r=r_i)\n",
    "  num2 <- factorial(r_i - 1)\n",
    "\n",
    "  return(prod(num2 / den * num1))\n",
    "}"
   ]
  },
  {
   "cell_type": "code",
   "execution_count": 13,
   "metadata": {
    "vscode": {
     "languageId": "r"
    }
   },
   "outputs": [
    {
     "data": {
      "text/html": [
       "0.000432900432900433"
      ],
      "text/latex": [
       "0.000432900432900433"
      ],
      "text/markdown": [
       "0.000432900432900433"
      ],
      "text/plain": [
       "[1] 0.0004329004"
      ]
     },
     "metadata": {},
     "output_type": "display_data"
    }
   ],
   "source": [
    "scoring_function(data, \"X3\", c())"
   ]
  },
  {
   "cell_type": "code",
   "execution_count": 14,
   "metadata": {
    "vscode": {
     "languageId": "r"
    }
   },
   "outputs": [],
   "source": [
    "K2_algorithm <- function(data, max_parents){\n",
    "  # If the data does not have column names, assign them\n",
    "  if (is.null(names(data))) {\n",
    "    names(data) <- paste0(\"X\", 1:ncol(data))\n",
    "  }\n",
    "\n",
    "  names <- names(data)\n",
    "  results <- c()\n",
    "\n",
    "  for (i in 1:ncol(data)){\n",
    "    x_i <- names[i]\n",
    "    parents <- c()\n",
    "    p_old <- scoring_function(data, x_i, parents)\n",
    "    proceed <- TRUE\n",
    "    \n",
    "    while (proceed){\n",
    "      # Check if the maximum number of parents has been reached\n",
    "      if (length(parents) == max_parents){\n",
    "        break\n",
    "      }\n",
    "\n",
    "      # Compute the predecessors\n",
    "      predecessors <- setdiff(names[0:(i-1)], parents)\n",
    "      if (length(predecessors) == 0){\n",
    "        break\n",
    "      }\n",
    "\n",
    "      # Try adding a new parent\n",
    "      scores <- sapply(predecessors, function(z) scoring_function(data, x_i, c(z, parents)))\n",
    "      p_new <- max(scores)\n",
    "      \n",
    "      # If the score increases, add the parent\n",
    "      if (p_new > p_old){\n",
    "        p_old <- p_new\n",
    "        parents <- c(parents, names[which.max(scores)])\n",
    "      } else {\n",
    "        proceed <- FALSE\n",
    "      }\n",
    "    } # end while\n",
    "    \n",
    "    results[[x_i]] <- parents\n",
    "  } # end for\n",
    "\n",
    "  return(list(names=names, parents_list=results))\n",
    "}"
   ]
  },
  {
   "cell_type": "code",
   "execution_count": 15,
   "metadata": {
    "vscode": {
     "languageId": "r"
    }
   },
   "outputs": [
    {
     "data": {
      "text/html": [
       "<dl>\n",
       "\t<dt>$names</dt>\n",
       "\t\t<dd><style>\n",
       ".list-inline {list-style: none; margin:0; padding: 0}\n",
       ".list-inline>li {display: inline-block}\n",
       ".list-inline>li:not(:last-child)::after {content: \"\\00b7\"; padding: 0 .5ex}\n",
       "</style>\n",
       "<ol class=list-inline><li>'X1'</li><li>'X2'</li><li>'X3'</li></ol>\n",
       "</dd>\n",
       "\t<dt>$parents_list</dt>\n",
       "\t\t<dd><dl>\n",
       "\t<dt>$X2</dt>\n",
       "\t\t<dd>'X1'</dd>\n",
       "\t<dt>$X3</dt>\n",
       "\t\t<dd>'X2'</dd>\n",
       "</dl>\n",
       "</dd>\n",
       "</dl>\n"
      ],
      "text/latex": [
       "\\begin{description}\n",
       "\\item[\\$names] \\begin{enumerate*}\n",
       "\\item 'X1'\n",
       "\\item 'X2'\n",
       "\\item 'X3'\n",
       "\\end{enumerate*}\n",
       "\n",
       "\\item[\\$parents\\_list] \\begin{description}\n",
       "\\item[\\$X2] 'X1'\n",
       "\\item[\\$X3] 'X2'\n",
       "\\end{description}\n",
       "\n",
       "\\end{description}\n"
      ],
      "text/markdown": [
       "$names\n",
       ":   1. 'X1'\n",
       "2. 'X2'\n",
       "3. 'X3'\n",
       "\n",
       "\n",
       "\n",
       "$parents_list\n",
       ":   $X2\n",
       ":   'X1'\n",
       "$X3\n",
       ":   'X2'\n",
       "\n",
       "\n",
       "\n",
       "\n",
       "\n"
      ],
      "text/plain": [
       "$names\n",
       "[1] \"X1\" \"X2\" \"X3\"\n",
       "\n",
       "$parents_list\n",
       "$parents_list$X2\n",
       "[1] \"X1\"\n",
       "\n",
       "$parents_list$X3\n",
       "[1] \"X2\"\n",
       "\n"
      ]
     },
     "metadata": {},
     "output_type": "display_data"
    }
   ],
   "source": [
    "res <- K2_algorithm(data, 1)\n",
    "res"
   ]
  },
  {
   "cell_type": "code",
   "execution_count": 16,
   "metadata": {
    "vscode": {
     "languageId": "r"
    }
   },
   "outputs": [],
   "source": [
    "get_dag <- function(names, parents_list){\n",
    "  dag <- empty.graph(names)\n",
    "\n",
    "  # Add arcs based on the parent-child relationships\n",
    "  for (child in names) {\n",
    "    parents <- parents_list[[child]]\n",
    "    if (length(parents) > 0) {\n",
    "      for (parent in parents) {\n",
    "        dag <- set.arc(dag, from = parent, to = child)\n",
    "      }\n",
    "    }\n",
    "  }\n",
    "  return(dag)\n",
    "}"
   ]
  },
  {
   "cell_type": "code",
   "execution_count": 17,
   "metadata": {
    "vscode": {
     "languageId": "r"
    }
   },
   "outputs": [],
   "source": [
    "dag <- get_dag(res$names, res$parents_list)"
   ]
  },
  {
   "cell_type": "code",
   "execution_count": 18,
   "metadata": {
    "vscode": {
     "languageId": "r"
    }
   },
   "outputs": [
    {
     "data": {
      "image/png": "[encoded data removed]",
      "text/plain": [
       "plot without title"
      ]
     },
     "metadata": {
      "image/png": {
       "height": 420,
       "width": 420
      }
     },
     "output_type": "display_data"
    }
   ],
   "source": [
    "graphviz.plot(dag, shape=\"circle\")"
   ]
  },
  {
   "cell_type": "code",
   "execution_count": null,
   "metadata": {
    "vscode": {
     "languageId": "r"
    }
   },
   "outputs": [],
   "source": []
  }
 ],
 "metadata": {
  "kernelspec": {
   "display_name": "R",
   "language": "R",
   "name": "ir"
  },
  "language_info": {
   "codemirror_mode": "r",
   "file_extension": ".r",
   "mimetype": "text/x-r-source",
   "name": "R",
   "pygments_lexer": "r",
   "version": "4.4.1"
  }
 },
 "nbformat": 4,
 "nbformat_minor": 2
}
