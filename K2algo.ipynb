{
 "cells": [
  {
   "cell_type": "code",
   "execution_count": 149,
   "metadata": {
    "vscode": {
     "languageId": "r"
    }
   },
   "outputs": [],
   "source": [
    "library(dplyr)      |> suppressPackageStartupMessages()\n",
    "library(readr)      |> suppressPackageStartupMessages()\n",
    "library(bnlearn)    |> suppressPackageStartupMessages()\n",
    "library(bnstruct)   |> suppressPackageStartupMessages()\n",
    "library(Rgraphviz)  |> suppressPackageStartupMessages()\n",
    "library(foreach)    |> suppressPackageStartupMessages()\n",
    "library(doParallel) |> suppressPackageStartupMessages()"
   ]
  },
  {
   "cell_type": "markdown",
   "metadata": {},
   "source": [
    "## Functions"
   ]
  },
  {
   "cell_type": "code",
   "execution_count": 150,
   "metadata": {
    "vscode": {
     "languageId": "r"
    }
   },
   "outputs": [],
   "source": [
    "## Scoring function for exact results\n",
    "scoring_function <- function(data, x_i, parents){\n",
    "  # Find the possible values of the attribute i\n",
    "  r_i <- data |> distinct(data[[x_i]]) |> nrow()\n",
    "\n",
    "  if (length(parents) == 0){\n",
    "    N <- nrow(data)\n",
    "\n",
    "    num1 <- data |> \n",
    "      group_by(data[[x_i]]) |> \n",
    "      count() |> \n",
    "      mutate(a = factorial(n)) |> \n",
    "      ungroup() |> \n",
    "      pull(a) |>\n",
    "      prod()\n",
    "\n",
    "    # To do consistently with the other case\n",
    "  } else {\n",
    "    alpha <- data |> group_by(data[c(x_i, parents)]) |> count()\n",
    "\n",
    "    N <- alpha |> group_by(alpha[parents]) |> \n",
    "      summarise(N = sum(n), .groups = \"drop\") |> \n",
    "      select(N)\n",
    "\n",
    "    num1 <- alpha |>\n",
    "      group_by(alpha[parents]) |>\n",
    "      summarise(alpha = prod(factorial(n)), .groups = \"drop\") |>\n",
    "      pull(alpha)\n",
    "  }\n",
    "\n",
    "  # Calculate the score\n",
    "  den <- sapply(N, function(x, r) factorial(x + r - 1), r=r_i)\n",
    "  num2 <- factorial(r_i - 1)\n",
    "\n",
    "  return(prod(num2 / den * num1))\n",
    "}\n",
    "\n",
    "## Log scoring function to avoid numerical issues\n",
    "log_scoring_function <- function(data, x_i, parents){\n",
    "  # Find the possible values of the attribute i\n",
    "  r_i <- data |> distinct(data[[x_i]]) |> nrow()\n",
    "\n",
    "  if (length(parents) == 0){\n",
    "    N <- nrow(data)\n",
    "\n",
    "    num1 <- data |> \n",
    "      group_by(data[[x_i]]) |> \n",
    "      count() |> \n",
    "      mutate(a = lfactorial(n)) |> \n",
    "      ungroup() |> \n",
    "      pull(a) |>\n",
    "      sum()\n",
    "\n",
    "    # To do consistently with the other case\n",
    "  } else {\n",
    "    alpha <- data |> group_by(data[c(x_i, parents)]) |> count()\n",
    "\n",
    "    N <- alpha |> group_by(alpha[parents]) |> \n",
    "      summarise(N = sum(n), .groups = \"drop\") |> \n",
    "      select(N)\n",
    "\n",
    "    num1 <- alpha |>\n",
    "      group_by(alpha[parents]) |>\n",
    "      summarise(alpha = sum(lfactorial(n)), .groups = \"drop\") |>\n",
    "      pull(alpha)\n",
    "  }\n",
    "\n",
    "  # Calculate the score\n",
    "  den <- sapply(N, function(x, r) lfactorial(x + r - 1), r=r_i)\n",
    "  num2 <- lfactorial(r_i - 1)\n",
    "\n",
    "  return(sum(num1 - den + num2))\n",
    "}"
   ]
  },
  {
   "cell_type": "code",
   "execution_count": 151,
   "metadata": {
    "vscode": {
     "languageId": "r"
    }
   },
   "outputs": [],
   "source": [
    "K2_algorithm <- function(data, max_parents){\n",
    "  names <- colnames(data)\n",
    "  results <- c()\n",
    "\n",
    "  for (i in 1:ncol(data)){\n",
    "    x_i <- names[i]\n",
    "    parents <- c()\n",
    "    p_old <- log_scoring_function(data, x_i, parents)\n",
    "    proceed <- TRUE\n",
    "    \n",
    "    while (proceed){\n",
    "      # Check if the maximum number of parents has been reached\n",
    "      if (length(parents) >= max_parents){\n",
    "        break\n",
    "      }\n",
    "\n",
    "      # Compute the predecessors\n",
    "      predecessors <- setdiff(names[0:(i-1)], parents)\n",
    "      if (length(predecessors) == 0){\n",
    "        break\n",
    "      }\n",
    "\n",
    "      # Try adding a new parent\n",
    "      scores <- sapply(predecessors, function(z) log_scoring_function(data, x_i, c(z, parents)))\n",
    "      p_new <- max(scores)\n",
    "      \n",
    "      # If the score increases, add the parent\n",
    "      if (p_new > p_old){\n",
    "        p_old <- p_new\n",
    "        parents <- c(parents, names[which.max(scores)])\n",
    "      } else {\n",
    "        proceed <- FALSE\n",
    "      }\n",
    "    } # end while\n",
    "    \n",
    "    results[[x_i]] <- parents\n",
    "  } # end for\n",
    "\n",
    "  return(list(names=names, parents_list=results))\n",
    "}"
   ]
  },
  {
   "cell_type": "code",
   "execution_count": 152,
   "metadata": {
    "vscode": {
     "languageId": "r"
    }
   },
   "outputs": [],
   "source": [
    "# Convert the parent-child relationships to a DAG\n",
    "get_dag <- function(names, parents_list){\n",
    "  dag <- empty.graph(names)\n",
    "\n",
    "  # Add arcs based on the parent-child relationships\n",
    "  for (child in names) {\n",
    "    parents <- parents_list[[child]]\n",
    "    if (length(parents) > 0) {\n",
    "      for (parent in parents) {\n",
    "        dag <- set.arc(dag, from = parent, to = child)\n",
    "      }\n",
    "    }\n",
    "  }\n",
    "  return(dag)\n",
    "}"
   ]
  },
  {
   "cell_type": "code",
   "execution_count": 153,
   "metadata": {
    "vscode": {
     "languageId": "r"
    }
   },
   "outputs": [],
   "source": [
    "K2_to_dag <- function(data, max_parents){\n",
    "  # Run the K2 algorithm\n",
    "  results <- K2_algorithm(data, max_parents)\n",
    "  names <- results$names\n",
    "  parents_list <- results$parents_list\n",
    "\n",
    "  # Convert the parent-child relationships to a DAG\n",
    "  dag <- get_dag(names, parents_list)\n",
    "\n",
    "  # Get the score of the DAG\n",
    "  score <- score(dag, data)\n",
    "\n",
    "  return(list(dag=dag, score=score))\n",
    "}"
   ]
  },
  {
   "cell_type": "code",
   "execution_count": 178,
   "metadata": {
    "vscode": {
     "languageId": "r"
    }
   },
   "outputs": [],
   "source": [
    "K2_pipeline <- function(data, max_parents, max_iter, mode=\"local\", n_cores=-1){\n",
    "  # Check if the mode is valid\n",
    "  if (mode != \"local\" && mode != \"parallel\") {\n",
    "    stop(\"Invalid mode. Please use 'local' or 'parallel'.\")\n",
    "  }\n",
    "  \n",
    "  # If the data does not have column names, assign them\n",
    "  if (is.null(colnames(data))) {\n",
    "    colnames(data) <- paste0(\"X\", 1:ncol(data))\n",
    "  }\n",
    "\n",
    "  # Try different random orders of the columns\n",
    "  if (mode == \"local\") {\n",
    "    # Initialize the best score and DAG\n",
    "    score_best <- -Inf\n",
    "    dag_best <- NULL\n",
    "\n",
    "    # Try different random orders of the columns\n",
    "    for (i in 1:max_iter){\n",
    "      data <- data |> select(sample(colnames(data)))\n",
    "      result <- K2_to_dag(data, max_parents)\n",
    "      score <- result$score\n",
    "\n",
    "      # Update the best DAG\n",
    "      if (score > score_best){\n",
    "        score_best <- score\n",
    "        dag_best <- result$dag\n",
    "      }\n",
    "    } \n",
    "\n",
    "    return(list(dag=dag_best, score=score_best))\n",
    "\n",
    "  } else if (mode == \"parallel\") {\n",
    "      # Setup parallel processing\n",
    "      if (n_cores == -1) {\n",
    "        n_cores <- detectCores()\n",
    "      }\n",
    "      cl <- makeCluster(n_cores)\n",
    "      registerDoParallel(cl)\n",
    "\n",
    "      # Try different random orders of the columns in parallel\n",
    "      results <- mclapply(1:max_iter, function(i) {\n",
    "        data_sampled <- data |> select(sample(colnames(data)))\n",
    "        result <- K2_to_dag(data_sampled, max_parents)\n",
    "        return(result)\n",
    "      }, mc.cores = n_cores)\n",
    "\n",
    "      # Initialize best score and DAG\n",
    "      score_best <- -Inf\n",
    "      dag_best <- NULL\n",
    "\n",
    "      # Find the best result\n",
    "      for (res in results) {\n",
    "        if (res$score > score_best) {\n",
    "          score_best <- res$score\n",
    "          dag_best <- res$dag\n",
    "        }\n",
    "      }\n",
    "\n",
    "      return(list(dag=dag_best, score=score_best))\n",
    "    }\n",
    "\n",
    "  return(NULL)\n",
    "} "
   ]
  },
  {
   "cell_type": "markdown",
   "metadata": {},
   "source": [
    "## Ruiz dataset"
   ]
  },
  {
   "cell_type": "code",
   "execution_count": 179,
   "metadata": {
    "vscode": {
     "languageId": "r"
    }
   },
   "outputs": [
    {
     "data": {
      "text/html": [
       "<table class=\"dataframe\">\n",
       "<caption>A data.frame: 10 × 3</caption>\n",
       "<thead>\n",
       "\t<tr><th scope=col>X1</th><th scope=col>X2</th><th scope=col>X3</th></tr>\n",
       "\t<tr><th scope=col>&lt;dbl&gt;</th><th scope=col>&lt;dbl&gt;</th><th scope=col>&lt;dbl&gt;</th></tr>\n",
       "</thead>\n",
       "<tbody>\n",
       "\t<tr><td>1</td><td>0</td><td>0</td></tr>\n",
       "\t<tr><td>1</td><td>1</td><td>1</td></tr>\n",
       "\t<tr><td>0</td><td>0</td><td>1</td></tr>\n",
       "\t<tr><td>1</td><td>1</td><td>1</td></tr>\n",
       "\t<tr><td>0</td><td>0</td><td>0</td></tr>\n",
       "\t<tr><td>0</td><td>1</td><td>1</td></tr>\n",
       "\t<tr><td>1</td><td>1</td><td>1</td></tr>\n",
       "\t<tr><td>0</td><td>0</td><td>0</td></tr>\n",
       "\t<tr><td>1</td><td>1</td><td>1</td></tr>\n",
       "\t<tr><td>0</td><td>0</td><td>0</td></tr>\n",
       "</tbody>\n",
       "</table>\n"
      ],
      "text/latex": [
       "A data.frame: 10 × 3\n",
       "\\begin{tabular}{lll}\n",
       " X1 & X2 & X3\\\\\n",
       " <dbl> & <dbl> & <dbl>\\\\\n",
       "\\hline\n",
       "\t 1 & 0 & 0\\\\\n",
       "\t 1 & 1 & 1\\\\\n",
       "\t 0 & 0 & 1\\\\\n",
       "\t 1 & 1 & 1\\\\\n",
       "\t 0 & 0 & 0\\\\\n",
       "\t 0 & 1 & 1\\\\\n",
       "\t 1 & 1 & 1\\\\\n",
       "\t 0 & 0 & 0\\\\\n",
       "\t 1 & 1 & 1\\\\\n",
       "\t 0 & 0 & 0\\\\\n",
       "\\end{tabular}\n"
      ],
      "text/markdown": [
       "\n",
       "A data.frame: 10 × 3\n",
       "\n",
       "| X1 &lt;dbl&gt; | X2 &lt;dbl&gt; | X3 &lt;dbl&gt; |\n",
       "|---|---|---|\n",
       "| 1 | 0 | 0 |\n",
       "| 1 | 1 | 1 |\n",
       "| 0 | 0 | 1 |\n",
       "| 1 | 1 | 1 |\n",
       "| 0 | 0 | 0 |\n",
       "| 0 | 1 | 1 |\n",
       "| 1 | 1 | 1 |\n",
       "| 0 | 0 | 0 |\n",
       "| 1 | 1 | 1 |\n",
       "| 0 | 0 | 0 |\n",
       "\n"
      ],
      "text/plain": [
       "   X1 X2 X3\n",
       "1  1  0  0 \n",
       "2  1  1  1 \n",
       "3  0  0  1 \n",
       "4  1  1  1 \n",
       "5  0  0  0 \n",
       "6  0  1  1 \n",
       "7  1  1  1 \n",
       "8  0  0  0 \n",
       "9  1  1  1 \n",
       "10 0  0  0 "
      ]
     },
     "metadata": {},
     "output_type": "display_data"
    }
   ],
   "source": [
    "records <- c(1,0,0,1,1,1,0,0,1,1,1,1,0,0,0,0,1,1,1,1,1,0,0,0,1,1,1,0,0,0)\n",
    "ruiz_example  <- data.frame(matrix(records, 10,3, byrow=TRUE))\n",
    "\n",
    "ruiz_example"
   ]
  },
  {
   "cell_type": "code",
   "execution_count": 180,
   "metadata": {
    "vscode": {
     "languageId": "r"
    }
   },
   "outputs": [
    {
     "name": "stdout",
     "output_type": "stream",
     "text": [
      "[1] 0.0004329004\n"
     ]
    },
    {
     "name": "stdout",
     "output_type": "stream",
     "text": [
      "[1] -7.745003\n"
     ]
    }
   ],
   "source": [
    "print(scoring_function(ruiz_example, \"X3\", c()))\n",
    "print(log_scoring_function(ruiz_example, \"X3\", c()))"
   ]
  },
  {
   "cell_type": "code",
   "execution_count": 182,
   "metadata": {
    "vscode": {
     "languageId": "r"
    }
   },
   "outputs": [
    {
     "name": "stdout",
     "output_type": "stream",
     "text": [
      "[1] \"Score:  -23.3137121136653\"\n"
     ]
    }
   ],
   "source": [
    "res <- K2_pipeline(ruiz_example, max_parents=3, max_iter=3, mode=\"parallel\")\n",
    "print(paste(\"Score: \", res$score))"
   ]
  },
  {
   "cell_type": "code",
   "execution_count": 136,
   "metadata": {
    "vscode": {
     "languageId": "r"
    }
   },
   "outputs": [
    {
     "data": {
      "image/png": "[encoded data removed]",
      "text/plain": [
       "plot without title"
      ]
     },
     "metadata": {
      "image/png": {
       "height": 420,
       "width": 420
      }
     },
     "output_type": "display_data"
    }
   ],
   "source": [
    "dag <- res$dag\n",
    "graphviz.plot(dag, shape=\"circle\")"
   ]
  },
  {
   "cell_type": "markdown",
   "metadata": {},
   "source": [
    "## Child dataset"
   ]
  },
  {
   "cell_type": "code",
   "execution_count": 140,
   "metadata": {
    "vscode": {
     "languageId": "r"
    }
   },
   "outputs": [
    {
     "name": "stderr",
     "output_type": "stream",
     "text": [
      "bnstruct :: performing imputation ...\n",
      "\n"
     ]
    },
    {
     "name": "stderr",
     "output_type": "stream",
     "text": [
      "bnstruct :: imputation finished.\n",
      "\n"
     ]
    },
    {
     "name": "stdout",
     "output_type": "stream",
     "text": [
      " [1] \"BirthAsphyxia\"  \"Disease\"        \"Age\"            \"LVH\"           \n",
      " [5] \"DuctFlow\"       \"CardiacMixing\"  \"LungParench\"    \"LungFlow\"      \n",
      " [9] \"Sick\"           \"HypDistrib\"     \"HypoxiaInO2\"    \"CO2\"           \n",
      "[13] \"ChestXray\"      \"Grunting\"       \"LVHReport\"      \"LowerBodyO2\"   \n",
      "[17] \"RUQO2\"          \"CO2Report\"      \"XrayReport\"     \"GruntingReport\"\n"
     ]
    },
    {
     "data": {
      "text/html": [
       "<table class=\"dataframe\">\n",
       "<caption>A data.frame: 6 × 20</caption>\n",
       "<thead>\n",
       "\t<tr><th></th><th scope=col>BirthAsphyxia</th><th scope=col>Disease</th><th scope=col>Age</th><th scope=col>LVH</th><th scope=col>DuctFlow</th><th scope=col>CardiacMixing</th><th scope=col>LungParench</th><th scope=col>LungFlow</th><th scope=col>Sick</th><th scope=col>HypDistrib</th><th scope=col>HypoxiaInO2</th><th scope=col>CO2</th><th scope=col>ChestXray</th><th scope=col>Grunting</th><th scope=col>LVHReport</th><th scope=col>LowerBodyO2</th><th scope=col>RUQO2</th><th scope=col>CO2Report</th><th scope=col>XrayReport</th><th scope=col>GruntingReport</th></tr>\n",
       "\t<tr><th></th><th scope=col>&lt;dbl&gt;</th><th scope=col>&lt;dbl&gt;</th><th scope=col>&lt;dbl&gt;</th><th scope=col>&lt;dbl&gt;</th><th scope=col>&lt;dbl&gt;</th><th scope=col>&lt;dbl&gt;</th><th scope=col>&lt;dbl&gt;</th><th scope=col>&lt;dbl&gt;</th><th scope=col>&lt;dbl&gt;</th><th scope=col>&lt;dbl&gt;</th><th scope=col>&lt;dbl&gt;</th><th scope=col>&lt;dbl&gt;</th><th scope=col>&lt;dbl&gt;</th><th scope=col>&lt;dbl&gt;</th><th scope=col>&lt;dbl&gt;</th><th scope=col>&lt;dbl&gt;</th><th scope=col>&lt;dbl&gt;</th><th scope=col>&lt;dbl&gt;</th><th scope=col>&lt;dbl&gt;</th><th scope=col>&lt;dbl&gt;</th></tr>\n",
       "</thead>\n",
       "<tbody>\n",
       "\t<tr><th scope=row>1</th><td>2</td><td>3</td><td>3</td><td>2</td><td>1</td><td>3</td><td>1</td><td>1</td><td>2</td><td>1</td><td>1</td><td>1</td><td>1</td><td>2</td><td>2</td><td>2</td><td>3</td><td>2</td><td>1</td><td>2</td></tr>\n",
       "\t<tr><th scope=row>2</th><td>2</td><td>4</td><td>2</td><td>1</td><td>1</td><td>2</td><td>1</td><td>2</td><td>2</td><td>1</td><td>2</td><td>1</td><td>2</td><td>2</td><td>1</td><td>2</td><td>2</td><td>1</td><td>2</td><td>2</td></tr>\n",
       "\t<tr><th scope=row>3</th><td>2</td><td>3</td><td>1</td><td>2</td><td>1</td><td>3</td><td>1</td><td>2</td><td>2</td><td>1</td><td>2</td><td>2</td><td>2</td><td>2</td><td>2</td><td>1</td><td>2</td><td>1</td><td>2</td><td>2</td></tr>\n",
       "\t<tr><th scope=row>4</th><td>2</td><td>4</td><td>1</td><td>1</td><td>1</td><td>3</td><td>1</td><td>1</td><td>2</td><td>1</td><td>3</td><td>1</td><td>1</td><td>2</td><td>1</td><td>3</td><td>1</td><td>1</td><td>1</td><td>2</td></tr>\n",
       "\t<tr><th scope=row>5</th><td>2</td><td>2</td><td>1</td><td>2</td><td>2</td><td>4</td><td>1</td><td>1</td><td>1</td><td>1</td><td>3</td><td>1</td><td>1</td><td>2</td><td>2</td><td>1</td><td>1</td><td>1</td><td>2</td><td>2</td></tr>\n",
       "\t<tr><th scope=row>6</th><td>2</td><td>2</td><td>1</td><td>2</td><td>1</td><td>4</td><td>1</td><td>3</td><td>2</td><td>1</td><td>3</td><td>1</td><td>3</td><td>2</td><td>2</td><td>2</td><td>1</td><td>1</td><td>3</td><td>2</td></tr>\n",
       "</tbody>\n",
       "</table>\n"
      ],
      "text/latex": [
       "A data.frame: 6 × 20\n",
       "\\begin{tabular}{r|llllllllllllllllllll}\n",
       "  & BirthAsphyxia & Disease & Age & LVH & DuctFlow & CardiacMixing & LungParench & LungFlow & Sick & HypDistrib & HypoxiaInO2 & CO2 & ChestXray & Grunting & LVHReport & LowerBodyO2 & RUQO2 & CO2Report & XrayReport & GruntingReport\\\\\n",
       "  & <dbl> & <dbl> & <dbl> & <dbl> & <dbl> & <dbl> & <dbl> & <dbl> & <dbl> & <dbl> & <dbl> & <dbl> & <dbl> & <dbl> & <dbl> & <dbl> & <dbl> & <dbl> & <dbl> & <dbl>\\\\\n",
       "\\hline\n",
       "\t1 & 2 & 3 & 3 & 2 & 1 & 3 & 1 & 1 & 2 & 1 & 1 & 1 & 1 & 2 & 2 & 2 & 3 & 2 & 1 & 2\\\\\n",
       "\t2 & 2 & 4 & 2 & 1 & 1 & 2 & 1 & 2 & 2 & 1 & 2 & 1 & 2 & 2 & 1 & 2 & 2 & 1 & 2 & 2\\\\\n",
       "\t3 & 2 & 3 & 1 & 2 & 1 & 3 & 1 & 2 & 2 & 1 & 2 & 2 & 2 & 2 & 2 & 1 & 2 & 1 & 2 & 2\\\\\n",
       "\t4 & 2 & 4 & 1 & 1 & 1 & 3 & 1 & 1 & 2 & 1 & 3 & 1 & 1 & 2 & 1 & 3 & 1 & 1 & 1 & 2\\\\\n",
       "\t5 & 2 & 2 & 1 & 2 & 2 & 4 & 1 & 1 & 1 & 1 & 3 & 1 & 1 & 2 & 2 & 1 & 1 & 1 & 2 & 2\\\\\n",
       "\t6 & 2 & 2 & 1 & 2 & 1 & 4 & 1 & 3 & 2 & 1 & 3 & 1 & 3 & 2 & 2 & 2 & 1 & 1 & 3 & 2\\\\\n",
       "\\end{tabular}\n"
      ],
      "text/markdown": [
       "\n",
       "A data.frame: 6 × 20\n",
       "\n",
       "| <!--/--> | BirthAsphyxia &lt;dbl&gt; | Disease &lt;dbl&gt; | Age &lt;dbl&gt; | LVH &lt;dbl&gt; | DuctFlow &lt;dbl&gt; | CardiacMixing &lt;dbl&gt; | LungParench &lt;dbl&gt; | LungFlow &lt;dbl&gt; | Sick &lt;dbl&gt; | HypDistrib &lt;dbl&gt; | HypoxiaInO2 &lt;dbl&gt; | CO2 &lt;dbl&gt; | ChestXray &lt;dbl&gt; | Grunting &lt;dbl&gt; | LVHReport &lt;dbl&gt; | LowerBodyO2 &lt;dbl&gt; | RUQO2 &lt;dbl&gt; | CO2Report &lt;dbl&gt; | XrayReport &lt;dbl&gt; | GruntingReport &lt;dbl&gt; |\n",
       "|---|---|---|---|---|---|---|---|---|---|---|---|---|---|---|---|---|---|---|---|---|\n",
       "| 1 | 2 | 3 | 3 | 2 | 1 | 3 | 1 | 1 | 2 | 1 | 1 | 1 | 1 | 2 | 2 | 2 | 3 | 2 | 1 | 2 |\n",
       "| 2 | 2 | 4 | 2 | 1 | 1 | 2 | 1 | 2 | 2 | 1 | 2 | 1 | 2 | 2 | 1 | 2 | 2 | 1 | 2 | 2 |\n",
       "| 3 | 2 | 3 | 1 | 2 | 1 | 3 | 1 | 2 | 2 | 1 | 2 | 2 | 2 | 2 | 2 | 1 | 2 | 1 | 2 | 2 |\n",
       "| 4 | 2 | 4 | 1 | 1 | 1 | 3 | 1 | 1 | 2 | 1 | 3 | 1 | 1 | 2 | 1 | 3 | 1 | 1 | 1 | 2 |\n",
       "| 5 | 2 | 2 | 1 | 2 | 2 | 4 | 1 | 1 | 1 | 1 | 3 | 1 | 1 | 2 | 2 | 1 | 1 | 1 | 2 | 2 |\n",
       "| 6 | 2 | 2 | 1 | 2 | 1 | 4 | 1 | 3 | 2 | 1 | 3 | 1 | 3 | 2 | 2 | 2 | 1 | 1 | 3 | 2 |\n",
       "\n"
      ],
      "text/plain": [
       "  BirthAsphyxia Disease Age LVH DuctFlow CardiacMixing LungParench LungFlow\n",
       "1 2             3       3   2   1        3             1           1       \n",
       "2 2             4       2   1   1        2             1           2       \n",
       "3 2             3       1   2   1        3             1           2       \n",
       "4 2             4       1   1   1        3             1           1       \n",
       "5 2             2       1   2   2        4             1           1       \n",
       "6 2             2       1   2   1        4             1           3       \n",
       "  Sick HypDistrib HypoxiaInO2 CO2 ChestXray Grunting LVHReport LowerBodyO2\n",
       "1 2    1          1           1   1         2        2         2          \n",
       "2 2    1          2           1   2         2        1         2          \n",
       "3 2    1          2           2   2         2        2         1          \n",
       "4 2    1          3           1   1         2        1         3          \n",
       "5 1    1          3           1   1         2        2         1          \n",
       "6 2    1          3           1   3         2        2         2          \n",
       "  RUQO2 CO2Report XrayReport GruntingReport\n",
       "1 3     2         1          2             \n",
       "2 2     1         2          2             \n",
       "3 2     1         2          2             \n",
       "4 1     1         1          2             \n",
       "5 1     1         2          2             \n",
       "6 1     1         3          2             "
      ]
     },
     "metadata": {},
     "output_type": "display_data"
    }
   ],
   "source": [
    "# Load the data\n",
    "child_df <- child() |> # S4 object\n",
    "  impute() |> # Impute the dataset to remove missing values\n",
    "  imputed.data() |> # Extract the imputed dataset\n",
    "  as.data.frame() # Convert to a data frame\n",
    "\n",
    "# Set the column names\n",
    "colnames(child_df) <- child()@variables\n",
    "print(colnames(child_df))\n",
    "\n",
    "head(child_df)"
   ]
  },
  {
   "cell_type": "code",
   "execution_count": 141,
   "metadata": {
    "vscode": {
     "languageId": "r"
    }
   },
   "outputs": [
    {
     "name": "stdout",
     "output_type": "stream",
     "text": [
      "[1] \"Score:  -79692.5775684222\"\n"
     ]
    }
   ],
   "source": [
    "#res <- K2_to_dag(child_df, max_parents=3)\n",
    "res <- K2_pipeline(child_df, max_parents=3, max_iter=3)\n",
    "print(paste(\"Score: \", res$score))"
   ]
  },
  {
   "cell_type": "code",
   "execution_count": 142,
   "metadata": {
    "vscode": {
     "languageId": "r"
    }
   },
   "outputs": [
    {
     "data": {
      "image/png": "[encoded data removed]",
      "text/plain": [
       "plot without title"
      ]
     },
     "metadata": {
      "image/png": {
       "height": 420,
       "width": 420
      }
     },
     "output_type": "display_data"
    }
   ],
   "source": [
    "dag <- res$dag\n",
    "graphviz.plot(dag, shape=\"circle\")"
   ]
  },
  {
   "cell_type": "markdown",
   "metadata": {},
   "source": [
    "## Asia dataset"
   ]
  },
  {
   "cell_type": "code",
   "execution_count": 143,
   "metadata": {
    "vscode": {
     "languageId": "r"
    }
   },
   "outputs": [
    {
     "name": "stderr",
     "output_type": "stream",
     "text": [
      "bnstruct :: performing imputation ...\n",
      "\n"
     ]
    },
    {
     "name": "stderr",
     "output_type": "stream",
     "text": [
      "bnstruct :: imputation finished.\n",
      "\n"
     ]
    },
    {
     "name": "stdout",
     "output_type": "stream",
     "text": [
      "[1] \"Asia\"         \"Tubercolosys\" \"Smoke\"        \"LungCancer\"   \"Bronchitis\"  \n",
      "[6] \"Either\"       \"X-ray\"        \"Dyspnea\"     \n"
     ]
    },
    {
     "data": {
      "text/html": [
       "<table class=\"dataframe\">\n",
       "<caption>A data.frame: 6 × 8</caption>\n",
       "<thead>\n",
       "\t<tr><th></th><th scope=col>Asia</th><th scope=col>Tubercolosys</th><th scope=col>Smoke</th><th scope=col>LungCancer</th><th scope=col>Bronchitis</th><th scope=col>Either</th><th scope=col>X-ray</th><th scope=col>Dyspnea</th></tr>\n",
       "\t<tr><th></th><th scope=col>&lt;dbl&gt;</th><th scope=col>&lt;dbl&gt;</th><th scope=col>&lt;dbl&gt;</th><th scope=col>&lt;dbl&gt;</th><th scope=col>&lt;dbl&gt;</th><th scope=col>&lt;dbl&gt;</th><th scope=col>&lt;dbl&gt;</th><th scope=col>&lt;dbl&gt;</th></tr>\n",
       "</thead>\n",
       "<tbody>\n",
       "\t<tr><th scope=row>1</th><td>2</td><td>2</td><td>1</td><td>1</td><td>1</td><td>2</td><td>1</td><td>2</td></tr>\n",
       "\t<tr><th scope=row>2</th><td>2</td><td>1</td><td>1</td><td>1</td><td>1</td><td>1</td><td>2</td><td>1</td></tr>\n",
       "\t<tr><th scope=row>3</th><td>1</td><td>1</td><td>2</td><td>1</td><td>1</td><td>1</td><td>2</td><td>1</td></tr>\n",
       "\t<tr><th scope=row>4</th><td>2</td><td>1</td><td>2</td><td>1</td><td>1</td><td>1</td><td>2</td><td>1</td></tr>\n",
       "\t<tr><th scope=row>5</th><td>2</td><td>1</td><td>2</td><td>1</td><td>1</td><td>1</td><td>1</td><td>2</td></tr>\n",
       "\t<tr><th scope=row>6</th><td>2</td><td>1</td><td>2</td><td>1</td><td>1</td><td>1</td><td>2</td><td>2</td></tr>\n",
       "</tbody>\n",
       "</table>\n"
      ],
      "text/latex": [
       "A data.frame: 6 × 8\n",
       "\\begin{tabular}{r|llllllll}\n",
       "  & Asia & Tubercolosys & Smoke & LungCancer & Bronchitis & Either & X-ray & Dyspnea\\\\\n",
       "  & <dbl> & <dbl> & <dbl> & <dbl> & <dbl> & <dbl> & <dbl> & <dbl>\\\\\n",
       "\\hline\n",
       "\t1 & 2 & 2 & 1 & 1 & 1 & 2 & 1 & 2\\\\\n",
       "\t2 & 2 & 1 & 1 & 1 & 1 & 1 & 2 & 1\\\\\n",
       "\t3 & 1 & 1 & 2 & 1 & 1 & 1 & 2 & 1\\\\\n",
       "\t4 & 2 & 1 & 2 & 1 & 1 & 1 & 2 & 1\\\\\n",
       "\t5 & 2 & 1 & 2 & 1 & 1 & 1 & 1 & 2\\\\\n",
       "\t6 & 2 & 1 & 2 & 1 & 1 & 1 & 2 & 2\\\\\n",
       "\\end{tabular}\n"
      ],
      "text/markdown": [
       "\n",
       "A data.frame: 6 × 8\n",
       "\n",
       "| <!--/--> | Asia &lt;dbl&gt; | Tubercolosys &lt;dbl&gt; | Smoke &lt;dbl&gt; | LungCancer &lt;dbl&gt; | Bronchitis &lt;dbl&gt; | Either &lt;dbl&gt; | X-ray &lt;dbl&gt; | Dyspnea &lt;dbl&gt; |\n",
       "|---|---|---|---|---|---|---|---|---|\n",
       "| 1 | 2 | 2 | 1 | 1 | 1 | 2 | 1 | 2 |\n",
       "| 2 | 2 | 1 | 1 | 1 | 1 | 1 | 2 | 1 |\n",
       "| 3 | 1 | 1 | 2 | 1 | 1 | 1 | 2 | 1 |\n",
       "| 4 | 2 | 1 | 2 | 1 | 1 | 1 | 2 | 1 |\n",
       "| 5 | 2 | 1 | 2 | 1 | 1 | 1 | 1 | 2 |\n",
       "| 6 | 2 | 1 | 2 | 1 | 1 | 1 | 2 | 2 |\n",
       "\n"
      ],
      "text/plain": [
       "  Asia Tubercolosys Smoke LungCancer Bronchitis Either X-ray Dyspnea\n",
       "1 2    2            1     1          1          2      1     2      \n",
       "2 2    1            1     1          1          1      2     1      \n",
       "3 1    1            2     1          1          1      2     1      \n",
       "4 2    1            2     1          1          1      2     1      \n",
       "5 2    1            2     1          1          1      1     2      \n",
       "6 2    1            2     1          1          1      2     2      "
      ]
     },
     "metadata": {},
     "output_type": "display_data"
    }
   ],
   "source": [
    "asia_df <- asia() |> # S4 object\n",
    "  impute() |> # Impute the dataset to remove missing values\n",
    "  imputed.data() |> # Extract the imputed dataset\n",
    "  as.data.frame() # Convert to a data frame\n",
    "\n",
    "# Set the column names\n",
    "colnames(asia_df) <- asia()@variables\n",
    "print(colnames(asia_df))\n",
    "\n",
    "head(asia_df)"
   ]
  },
  {
   "cell_type": "code",
   "execution_count": 144,
   "metadata": {
    "vscode": {
     "languageId": "r"
    }
   },
   "outputs": [
    {
     "name": "stdout",
     "output_type": "stream",
     "text": [
      "[1] \"Score:  26569.6856573522\"\n"
     ]
    }
   ],
   "source": [
    "#res <- K2_to_dag(asia_df, max_parents=3)\n",
    "res <- K2_pipeline(asia_df, max_parents=3, max_iter=3)\n",
    "print(paste(\"Score: \", res$score))"
   ]
  },
  {
   "cell_type": "code",
   "execution_count": 145,
   "metadata": {
    "vscode": {
     "languageId": "r"
    }
   },
   "outputs": [
    {
     "data": {
      "image/png": "[encoded data removed]",
      "text/plain": [
       "plot without title"
      ]
     },
     "metadata": {
      "image/png": {
       "height": 420,
       "width": 420
      }
     },
     "output_type": "display_data"
    }
   ],
   "source": [
    "dag <- res$dag\n",
    "graphviz.plot(dag, shape=\"circle\")"
   ]
  },
  {
   "cell_type": "markdown",
   "metadata": {},
   "source": [
    "## SACHS"
   ]
  },
  {
   "cell_type": "code",
   "execution_count": 146,
   "metadata": {
    "vscode": {
     "languageId": "r"
    }
   },
   "outputs": [
    {
     "data": {
      "text/html": [
       "<table class=\"dataframe\">\n",
       "<caption>A tibble: 6 × 11</caption>\n",
       "<thead>\n",
       "\t<tr><th scope=col>Akt</th><th scope=col>Erk</th><th scope=col>Jnk</th><th scope=col>Mek</th><th scope=col>P38</th><th scope=col>PIP2</th><th scope=col>PIP3</th><th scope=col>PKA</th><th scope=col>PKC</th><th scope=col>Plcg</th><th scope=col>Raf</th></tr>\n",
       "\t<tr><th scope=col>&lt;dbl&gt;</th><th scope=col>&lt;dbl&gt;</th><th scope=col>&lt;dbl&gt;</th><th scope=col>&lt;dbl&gt;</th><th scope=col>&lt;dbl&gt;</th><th scope=col>&lt;dbl&gt;</th><th scope=col>&lt;dbl&gt;</th><th scope=col>&lt;dbl&gt;</th><th scope=col>&lt;dbl&gt;</th><th scope=col>&lt;dbl&gt;</th><th scope=col>&lt;dbl&gt;</th></tr>\n",
       "</thead>\n",
       "<tbody>\n",
       "\t<tr><td>1</td><td>1</td><td>1</td><td>1</td><td>1</td><td>1</td><td>2</td><td>2</td><td>3</td><td>1</td><td>1</td></tr>\n",
       "\t<tr><td>1</td><td>2</td><td>1</td><td>1</td><td>2</td><td>1</td><td>2</td><td>2</td><td>2</td><td>1</td><td>1</td></tr>\n",
       "\t<tr><td>1</td><td>1</td><td>3</td><td>1</td><td>3</td><td>2</td><td>2</td><td>1</td><td>1</td><td>3</td><td>3</td></tr>\n",
       "\t<tr><td>1</td><td>2</td><td>1</td><td>1</td><td>1</td><td>1</td><td>3</td><td>3</td><td>1</td><td>1</td><td>2</td></tr>\n",
       "\t<tr><td>1</td><td>2</td><td>1</td><td>1</td><td>1</td><td>1</td><td>3</td><td>2</td><td>2</td><td>2</td><td>1</td></tr>\n",
       "\t<tr><td>1</td><td>2</td><td>2</td><td>2</td><td>1</td><td>1</td><td>1</td><td>2</td><td>2</td><td>1</td><td>2</td></tr>\n",
       "</tbody>\n",
       "</table>\n"
      ],
      "text/latex": [
       "A tibble: 6 × 11\n",
       "\\begin{tabular}{lllllllllll}\n",
       " Akt & Erk & Jnk & Mek & P38 & PIP2 & PIP3 & PKA & PKC & Plcg & Raf\\\\\n",
       " <dbl> & <dbl> & <dbl> & <dbl> & <dbl> & <dbl> & <dbl> & <dbl> & <dbl> & <dbl> & <dbl>\\\\\n",
       "\\hline\n",
       "\t 1 & 1 & 1 & 1 & 1 & 1 & 2 & 2 & 3 & 1 & 1\\\\\n",
       "\t 1 & 2 & 1 & 1 & 2 & 1 & 2 & 2 & 2 & 1 & 1\\\\\n",
       "\t 1 & 1 & 3 & 1 & 3 & 2 & 2 & 1 & 1 & 3 & 3\\\\\n",
       "\t 1 & 2 & 1 & 1 & 1 & 1 & 3 & 3 & 1 & 1 & 2\\\\\n",
       "\t 1 & 2 & 1 & 1 & 1 & 1 & 3 & 2 & 2 & 2 & 1\\\\\n",
       "\t 1 & 2 & 2 & 2 & 1 & 1 & 1 & 2 & 2 & 1 & 2\\\\\n",
       "\\end{tabular}\n"
      ],
      "text/markdown": [
       "\n",
       "A tibble: 6 × 11\n",
       "\n",
       "| Akt &lt;dbl&gt; | Erk &lt;dbl&gt; | Jnk &lt;dbl&gt; | Mek &lt;dbl&gt; | P38 &lt;dbl&gt; | PIP2 &lt;dbl&gt; | PIP3 &lt;dbl&gt; | PKA &lt;dbl&gt; | PKC &lt;dbl&gt; | Plcg &lt;dbl&gt; | Raf &lt;dbl&gt; |\n",
       "|---|---|---|---|---|---|---|---|---|---|---|\n",
       "| 1 | 1 | 1 | 1 | 1 | 1 | 2 | 2 | 3 | 1 | 1 |\n",
       "| 1 | 2 | 1 | 1 | 2 | 1 | 2 | 2 | 2 | 1 | 1 |\n",
       "| 1 | 1 | 3 | 1 | 3 | 2 | 2 | 1 | 1 | 3 | 3 |\n",
       "| 1 | 2 | 1 | 1 | 1 | 1 | 3 | 3 | 1 | 1 | 2 |\n",
       "| 1 | 2 | 1 | 1 | 1 | 1 | 3 | 2 | 2 | 2 | 1 |\n",
       "| 1 | 2 | 2 | 2 | 1 | 1 | 1 | 2 | 2 | 1 | 2 |\n",
       "\n"
      ],
      "text/plain": [
       "  Akt Erk Jnk Mek P38 PIP2 PIP3 PKA PKC Plcg Raf\n",
       "1 1   1   1   1   1   1    2    2   3   1    1  \n",
       "2 1   2   1   1   2   1    2    2   2   1    1  \n",
       "3 1   1   3   1   3   2    2    1   1   3    3  \n",
       "4 1   2   1   1   1   1    3    3   1   1    2  \n",
       "5 1   2   1   1   1   1    3    2   2   2    1  \n",
       "6 1   2   2   2   1   1    1    2   2   1    2  "
      ]
     },
     "metadata": {},
     "output_type": "display_data"
    }
   ],
   "source": [
    "sachs_df <- read_csv('https://www.ccd.pitt.edu/wiki/images/SACHS10k.csv', show_col_types = FALSE)\n",
    "head(sachs_df)"
   ]
  },
  {
   "cell_type": "code",
   "execution_count": 147,
   "metadata": {
    "vscode": {
     "languageId": "r"
    }
   },
   "outputs": [
    {
     "name": "stdout",
     "output_type": "stream",
     "text": [
      "[1] \"Score:  -94008.7185008838\"\n"
     ]
    }
   ],
   "source": [
    "#res <- K2_to_dag(sachs_df, max_parents=3)\n",
    "res <- K2_pipeline(sachs_df, max_parents=3, max_iter=3)\n",
    "print(paste(\"Score: \", res$score))"
   ]
  },
  {
   "cell_type": "code",
   "execution_count": 148,
   "metadata": {
    "vscode": {
     "languageId": "r"
    }
   },
   "outputs": [
    {
     "data": {
      "image/png": "[encoded data removed]",
      "text/plain": [
       "plot without title"
      ]
     },
     "metadata": {
      "image/png": {
       "height": 420,
       "width": 420
      }
     },
     "output_type": "display_data"
    }
   ],
   "source": [
    "dag <- res$dag\n",
    "graphviz.plot(dag, shape=\"circle\")"
   ]
  },
  {
   "cell_type": "code",
   "execution_count": null,
   "metadata": {
    "vscode": {
     "languageId": "r"
    }
   },
   "outputs": [],
   "source": []
  }
 ],
 "metadata": {
  "kernelspec": {
   "display_name": "R",
   "language": "R",
   "name": "ir"
  },
  "language_info": {
   "codemirror_mode": "r",
   "file_extension": ".r",
   "mimetype": "text/x-r-source",
   "name": "R",
   "pygments_lexer": "r",
   "version": "4.4.1"
  }
 },
 "nbformat": 4,
 "nbformat_minor": 2
}
