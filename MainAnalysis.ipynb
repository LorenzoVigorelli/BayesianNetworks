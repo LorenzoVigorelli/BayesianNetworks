{
 "cells": [
  {
   "cell_type": "code",
   "execution_count": 1,
   "metadata": {
    "vscode": {
     "languageId": "r"
    }
   },
   "outputs": [],
   "source": [
    "library(dplyr)      |> suppressPackageStartupMessages()\n",
    "library(readr)      |> suppressPackageStartupMessages()\n",
    "library(bnlearn)    |> suppressPackageStartupMessages()\n",
    "library(bnstruct)   |> suppressPackageStartupMessages()\n",
    "library(Rgraphviz)  |> suppressPackageStartupMessages()\n",
    "library(foreach)    |> suppressPackageStartupMessages()\n",
    "library(doParallel) |> suppressPackageStartupMessages()\n",
    "library(ggplot2)    |> suppressPackageStartupMessages()\n",
    "library(tidyr)      |> suppressPackageStartupMessages()\n",
    "library(purrr)      |> suppressPackageStartupMessages()\n",
    "\n",
    "source(\"InternalLibrary/R/K2algo.R\")\n",
    "source(\"InternalLibrary/R/utils.R\")"
   ]
  },
  {
   "cell_type": "markdown",
   "metadata": {},
   "source": [
    "## Datasets and DAGs"
   ]
  },
  {
   "cell_type": "markdown",
   "metadata": {},
   "source": [
    "### Ruiz dataset"
   ]
  },
  {
   "cell_type": "code",
   "execution_count": 2,
   "metadata": {
    "vscode": {
     "languageId": "r"
    }
   },
   "outputs": [
    {
     "data": {
      "text/html": [
       "<table class=\"dataframe\">\n",
       "<caption>A data.frame: 10 × 3</caption>\n",
       "<thead>\n",
       "\t<tr><th scope=col>X1</th><th scope=col>X2</th><th scope=col>X3</th></tr>\n",
       "\t<tr><th scope=col>&lt;dbl&gt;</th><th scope=col>&lt;dbl&gt;</th><th scope=col>&lt;dbl&gt;</th></tr>\n",
       "</thead>\n",
       "<tbody>\n",
       "\t<tr><td>1</td><td>0</td><td>0</td></tr>\n",
       "\t<tr><td>1</td><td>1</td><td>1</td></tr>\n",
       "\t<tr><td>0</td><td>0</td><td>1</td></tr>\n",
       "\t<tr><td>1</td><td>1</td><td>1</td></tr>\n",
       "\t<tr><td>0</td><td>0</td><td>0</td></tr>\n",
       "\t<tr><td>0</td><td>1</td><td>1</td></tr>\n",
       "\t<tr><td>1</td><td>1</td><td>1</td></tr>\n",
       "\t<tr><td>0</td><td>0</td><td>0</td></tr>\n",
       "\t<tr><td>1</td><td>1</td><td>1</td></tr>\n",
       "\t<tr><td>0</td><td>0</td><td>0</td></tr>\n",
       "</tbody>\n",
       "</table>\n"
      ],
      "text/latex": [
       "A data.frame: 10 × 3\n",
       "\\begin{tabular}{lll}\n",
       " X1 & X2 & X3\\\\\n",
       " <dbl> & <dbl> & <dbl>\\\\\n",
       "\\hline\n",
       "\t 1 & 0 & 0\\\\\n",
       "\t 1 & 1 & 1\\\\\n",
       "\t 0 & 0 & 1\\\\\n",
       "\t 1 & 1 & 1\\\\\n",
       "\t 0 & 0 & 0\\\\\n",
       "\t 0 & 1 & 1\\\\\n",
       "\t 1 & 1 & 1\\\\\n",
       "\t 0 & 0 & 0\\\\\n",
       "\t 1 & 1 & 1\\\\\n",
       "\t 0 & 0 & 0\\\\\n",
       "\\end{tabular}\n"
      ],
      "text/markdown": [
       "\n",
       "A data.frame: 10 × 3\n",
       "\n",
       "| X1 &lt;dbl&gt; | X2 &lt;dbl&gt; | X3 &lt;dbl&gt; |\n",
       "|---|---|---|\n",
       "| 1 | 0 | 0 |\n",
       "| 1 | 1 | 1 |\n",
       "| 0 | 0 | 1 |\n",
       "| 1 | 1 | 1 |\n",
       "| 0 | 0 | 0 |\n",
       "| 0 | 1 | 1 |\n",
       "| 1 | 1 | 1 |\n",
       "| 0 | 0 | 0 |\n",
       "| 1 | 1 | 1 |\n",
       "| 0 | 0 | 0 |\n",
       "\n"
      ],
      "text/plain": [
       "   X1 X2 X3\n",
       "1  1  0  0 \n",
       "2  1  1  1 \n",
       "3  0  0  1 \n",
       "4  1  1  1 \n",
       "5  0  0  0 \n",
       "6  0  1  1 \n",
       "7  1  1  1 \n",
       "8  0  0  0 \n",
       "9  1  1  1 \n",
       "10 0  0  0 "
      ]
     },
     "metadata": {},
     "output_type": "display_data"
    }
   ],
   "source": [
    "records <- c(1,0,0,1,1,1,0,0,1,1,1,1,0,0,0,0,1,1,1,1,1,0,0,0,1,1,1,0,0,0)\n",
    "ruiz_example  <- data.frame(matrix(records, 10,3, byrow=TRUE))\n",
    "\n",
    "ruiz_example"
   ]
  },
  {
   "cell_type": "code",
   "execution_count": 3,
   "metadata": {
    "vscode": {
     "languageId": "r"
    }
   },
   "outputs": [
    {
     "name": "stdout",
     "output_type": "stream",
     "text": [
      "[1] 0.0004329004\n",
      "[1] -7.745003\n"
     ]
    }
   ],
   "source": [
    "print(scoring_function(ruiz_example, \"X3\", c()))\n",
    "print(log_scoring_function(ruiz_example, \"X3\", c()))"
   ]
  },
  {
   "cell_type": "code",
   "execution_count": 4,
   "metadata": {
    "vscode": {
     "languageId": "r"
    }
   },
   "outputs": [
    {
     "name": "stdout",
     "output_type": "stream",
     "text": [
      "[1] \"Score:  -23.3137121136653\"\n"
     ]
    }
   ],
   "source": [
    "res <- K2_pipeline(ruiz_example, max_parents=3, max_iter=1)\n",
    "print(paste(\"Score: \", res$score))"
   ]
  },
  {
   "cell_type": "code",
   "execution_count": 5,
   "metadata": {
    "vscode": {
     "languageId": "r"
    }
   },
   "outputs": [
    {
     "data": {
      "image/png": "[encoded data removed]",
      "text/plain": [
       "plot without title"
      ]
     },
     "metadata": {
      "image/png": {
       "height": 420,
       "width": 420
      }
     },
     "output_type": "display_data"
    }
   ],
   "source": [
    "dag <- res$dag\n",
    "graphviz.plot(dag, shape=\"circle\")"
   ]
  },
  {
   "cell_type": "markdown",
   "metadata": {},
   "source": [
    "### Child dataset"
   ]
  },
  {
   "cell_type": "code",
   "execution_count": 6,
   "metadata": {
    "vscode": {
     "languageId": "r"
    }
   },
   "outputs": [
    {
     "name": "stderr",
     "output_type": "stream",
     "text": [
      "bnstruct :: performing imputation ...\n",
      "\n",
      "bnstruct :: imputation finished.\n",
      "\n"
     ]
    },
    {
     "name": "stdout",
     "output_type": "stream",
     "text": [
      " [1] \"BirthAsphyxia\"  \"Disease\"        \"Age\"            \"LVH\"           \n",
      " [5] \"DuctFlow\"       \"CardiacMixing\"  \"LungParench\"    \"LungFlow\"      \n",
      " [9] \"Sick\"           \"HypDistrib\"     \"HypoxiaInO2\"    \"CO2\"           \n",
      "[13] \"ChestXray\"      \"Grunting\"       \"LVHReport\"      \"LowerBodyO2\"   \n",
      "[17] \"RUQO2\"          \"CO2Report\"      \"XrayReport\"     \"GruntingReport\"\n"
     ]
    },
    {
     "data": {
      "text/html": [
       "<table class=\"dataframe\">\n",
       "<caption>A data.frame: 6 × 20</caption>\n",
       "<thead>\n",
       "\t<tr><th></th><th scope=col>BirthAsphyxia</th><th scope=col>Disease</th><th scope=col>Age</th><th scope=col>LVH</th><th scope=col>DuctFlow</th><th scope=col>CardiacMixing</th><th scope=col>LungParench</th><th scope=col>LungFlow</th><th scope=col>Sick</th><th scope=col>HypDistrib</th><th scope=col>HypoxiaInO2</th><th scope=col>CO2</th><th scope=col>ChestXray</th><th scope=col>Grunting</th><th scope=col>LVHReport</th><th scope=col>LowerBodyO2</th><th scope=col>RUQO2</th><th scope=col>CO2Report</th><th scope=col>XrayReport</th><th scope=col>GruntingReport</th></tr>\n",
       "\t<tr><th></th><th scope=col>&lt;dbl&gt;</th><th scope=col>&lt;dbl&gt;</th><th scope=col>&lt;dbl&gt;</th><th scope=col>&lt;dbl&gt;</th><th scope=col>&lt;dbl&gt;</th><th scope=col>&lt;dbl&gt;</th><th scope=col>&lt;dbl&gt;</th><th scope=col>&lt;dbl&gt;</th><th scope=col>&lt;dbl&gt;</th><th scope=col>&lt;dbl&gt;</th><th scope=col>&lt;dbl&gt;</th><th scope=col>&lt;dbl&gt;</th><th scope=col>&lt;dbl&gt;</th><th scope=col>&lt;dbl&gt;</th><th scope=col>&lt;dbl&gt;</th><th scope=col>&lt;dbl&gt;</th><th scope=col>&lt;dbl&gt;</th><th scope=col>&lt;dbl&gt;</th><th scope=col>&lt;dbl&gt;</th><th scope=col>&lt;dbl&gt;</th></tr>\n",
       "</thead>\n",
       "<tbody>\n",
       "\t<tr><th scope=row>1</th><td>2</td><td>3</td><td>3</td><td>2</td><td>1</td><td>3</td><td>1</td><td>1</td><td>2</td><td>1</td><td>1</td><td>1</td><td>1</td><td>2</td><td>2</td><td>2</td><td>3</td><td>2</td><td>1</td><td>2</td></tr>\n",
       "\t<tr><th scope=row>2</th><td>2</td><td>4</td><td>2</td><td>1</td><td>1</td><td>2</td><td>1</td><td>2</td><td>2</td><td>1</td><td>2</td><td>1</td><td>2</td><td>2</td><td>1</td><td>2</td><td>2</td><td>1</td><td>2</td><td>2</td></tr>\n",
       "\t<tr><th scope=row>3</th><td>2</td><td>3</td><td>1</td><td>2</td><td>1</td><td>3</td><td>1</td><td>2</td><td>2</td><td>1</td><td>2</td><td>2</td><td>2</td><td>2</td><td>2</td><td>1</td><td>2</td><td>1</td><td>2</td><td>2</td></tr>\n",
       "\t<tr><th scope=row>4</th><td>2</td><td>4</td><td>1</td><td>1</td><td>1</td><td>3</td><td>1</td><td>1</td><td>2</td><td>1</td><td>3</td><td>1</td><td>1</td><td>2</td><td>1</td><td>3</td><td>1</td><td>1</td><td>1</td><td>2</td></tr>\n",
       "\t<tr><th scope=row>5</th><td>2</td><td>2</td><td>1</td><td>2</td><td>2</td><td>4</td><td>1</td><td>1</td><td>1</td><td>1</td><td>3</td><td>1</td><td>1</td><td>2</td><td>2</td><td>1</td><td>1</td><td>1</td><td>2</td><td>2</td></tr>\n",
       "\t<tr><th scope=row>6</th><td>2</td><td>2</td><td>1</td><td>2</td><td>1</td><td>4</td><td>1</td><td>3</td><td>2</td><td>1</td><td>3</td><td>1</td><td>3</td><td>2</td><td>2</td><td>2</td><td>1</td><td>1</td><td>3</td><td>2</td></tr>\n",
       "</tbody>\n",
       "</table>\n"
      ],
      "text/latex": [
       "A data.frame: 6 × 20\n",
       "\\begin{tabular}{r|llllllllllllllllllll}\n",
       "  & BirthAsphyxia & Disease & Age & LVH & DuctFlow & CardiacMixing & LungParench & LungFlow & Sick & HypDistrib & HypoxiaInO2 & CO2 & ChestXray & Grunting & LVHReport & LowerBodyO2 & RUQO2 & CO2Report & XrayReport & GruntingReport\\\\\n",
       "  & <dbl> & <dbl> & <dbl> & <dbl> & <dbl> & <dbl> & <dbl> & <dbl> & <dbl> & <dbl> & <dbl> & <dbl> & <dbl> & <dbl> & <dbl> & <dbl> & <dbl> & <dbl> & <dbl> & <dbl>\\\\\n",
       "\\hline\n",
       "\t1 & 2 & 3 & 3 & 2 & 1 & 3 & 1 & 1 & 2 & 1 & 1 & 1 & 1 & 2 & 2 & 2 & 3 & 2 & 1 & 2\\\\\n",
       "\t2 & 2 & 4 & 2 & 1 & 1 & 2 & 1 & 2 & 2 & 1 & 2 & 1 & 2 & 2 & 1 & 2 & 2 & 1 & 2 & 2\\\\\n",
       "\t3 & 2 & 3 & 1 & 2 & 1 & 3 & 1 & 2 & 2 & 1 & 2 & 2 & 2 & 2 & 2 & 1 & 2 & 1 & 2 & 2\\\\\n",
       "\t4 & 2 & 4 & 1 & 1 & 1 & 3 & 1 & 1 & 2 & 1 & 3 & 1 & 1 & 2 & 1 & 3 & 1 & 1 & 1 & 2\\\\\n",
       "\t5 & 2 & 2 & 1 & 2 & 2 & 4 & 1 & 1 & 1 & 1 & 3 & 1 & 1 & 2 & 2 & 1 & 1 & 1 & 2 & 2\\\\\n",
       "\t6 & 2 & 2 & 1 & 2 & 1 & 4 & 1 & 3 & 2 & 1 & 3 & 1 & 3 & 2 & 2 & 2 & 1 & 1 & 3 & 2\\\\\n",
       "\\end{tabular}\n"
      ],
      "text/markdown": [
       "\n",
       "A data.frame: 6 × 20\n",
       "\n",
       "| <!--/--> | BirthAsphyxia &lt;dbl&gt; | Disease &lt;dbl&gt; | Age &lt;dbl&gt; | LVH &lt;dbl&gt; | DuctFlow &lt;dbl&gt; | CardiacMixing &lt;dbl&gt; | LungParench &lt;dbl&gt; | LungFlow &lt;dbl&gt; | Sick &lt;dbl&gt; | HypDistrib &lt;dbl&gt; | HypoxiaInO2 &lt;dbl&gt; | CO2 &lt;dbl&gt; | ChestXray &lt;dbl&gt; | Grunting &lt;dbl&gt; | LVHReport &lt;dbl&gt; | LowerBodyO2 &lt;dbl&gt; | RUQO2 &lt;dbl&gt; | CO2Report &lt;dbl&gt; | XrayReport &lt;dbl&gt; | GruntingReport &lt;dbl&gt; |\n",
       "|---|---|---|---|---|---|---|---|---|---|---|---|---|---|---|---|---|---|---|---|---|\n",
       "| 1 | 2 | 3 | 3 | 2 | 1 | 3 | 1 | 1 | 2 | 1 | 1 | 1 | 1 | 2 | 2 | 2 | 3 | 2 | 1 | 2 |\n",
       "| 2 | 2 | 4 | 2 | 1 | 1 | 2 | 1 | 2 | 2 | 1 | 2 | 1 | 2 | 2 | 1 | 2 | 2 | 1 | 2 | 2 |\n",
       "| 3 | 2 | 3 | 1 | 2 | 1 | 3 | 1 | 2 | 2 | 1 | 2 | 2 | 2 | 2 | 2 | 1 | 2 | 1 | 2 | 2 |\n",
       "| 4 | 2 | 4 | 1 | 1 | 1 | 3 | 1 | 1 | 2 | 1 | 3 | 1 | 1 | 2 | 1 | 3 | 1 | 1 | 1 | 2 |\n",
       "| 5 | 2 | 2 | 1 | 2 | 2 | 4 | 1 | 1 | 1 | 1 | 3 | 1 | 1 | 2 | 2 | 1 | 1 | 1 | 2 | 2 |\n",
       "| 6 | 2 | 2 | 1 | 2 | 1 | 4 | 1 | 3 | 2 | 1 | 3 | 1 | 3 | 2 | 2 | 2 | 1 | 1 | 3 | 2 |\n",
       "\n"
      ],
      "text/plain": [
       "  BirthAsphyxia Disease Age LVH DuctFlow CardiacMixing LungParench LungFlow\n",
       "1 2             3       3   2   1        3             1           1       \n",
       "2 2             4       2   1   1        2             1           2       \n",
       "3 2             3       1   2   1        3             1           2       \n",
       "4 2             4       1   1   1        3             1           1       \n",
       "5 2             2       1   2   2        4             1           1       \n",
       "6 2             2       1   2   1        4             1           3       \n",
       "  Sick HypDistrib HypoxiaInO2 CO2 ChestXray Grunting LVHReport LowerBodyO2\n",
       "1 2    1          1           1   1         2        2         2          \n",
       "2 2    1          2           1   2         2        1         2          \n",
       "3 2    1          2           2   2         2        2         1          \n",
       "4 2    1          3           1   1         2        1         3          \n",
       "5 1    1          3           1   1         2        2         1          \n",
       "6 2    1          3           1   3         2        2         2          \n",
       "  RUQO2 CO2Report XrayReport GruntingReport\n",
       "1 3     2         1          2             \n",
       "2 2     1         2          2             \n",
       "3 2     1         2          2             \n",
       "4 1     1         1          2             \n",
       "5 1     1         2          2             \n",
       "6 1     1         3          2             "
      ]
     },
     "metadata": {},
     "output_type": "display_data"
    }
   ],
   "source": [
    "# Load the data\n",
    "child_df <- child() |> # S4 object\n",
    "  impute() |> # Impute the dataset to remove missing values\n",
    "  imputed.data() |> # Extract the imputed dataset\n",
    "  as.data.frame() # Convert to a data frame\n",
    "\n",
    "# Set the column names\n",
    "colnames(child_df) <- child()@variables\n",
    "print(colnames(child_df))\n",
    "\n",
    "head(child_df)"
   ]
  },
  {
   "cell_type": "code",
   "execution_count": 7,
   "metadata": {
    "vscode": {
     "languageId": "r"
    }
   },
   "outputs": [
    {
     "name": "stdout",
     "output_type": "stream",
     "text": [
      "[1] \"Score:  -79636.3597108962\"\n"
     ]
    }
   ],
   "source": [
    "#res <- K2_to_dag(child_df, max_parents=3)\n",
    "res <- K2_pipeline(child_df, max_parents=3, max_iter=3)\n",
    "print(paste(\"Score: \", res$score))"
   ]
  },
  {
   "cell_type": "code",
   "execution_count": 8,
   "metadata": {
    "vscode": {
     "languageId": "r"
    }
   },
   "outputs": [
    {
     "data": {
      "image/png": "[encoded data removed]",
      "text/plain": [
       "plot without title"
      ]
     },
     "metadata": {
      "image/png": {
       "height": 420,
       "width": 420
      }
     },
     "output_type": "display_data"
    }
   ],
   "source": [
    "dag <- res$dag\n",
    "graphviz.plot(dag, shape=\"circle\")"
   ]
  },
  {
   "cell_type": "markdown",
   "metadata": {},
   "source": [
    "### Asia dataset"
   ]
  },
  {
   "cell_type": "code",
   "execution_count": 9,
   "metadata": {
    "vscode": {
     "languageId": "r"
    }
   },
   "outputs": [
    {
     "name": "stderr",
     "output_type": "stream",
     "text": [
      "bnstruct :: performing imputation ...\n",
      "\n",
      "bnstruct :: imputation finished.\n",
      "\n"
     ]
    },
    {
     "name": "stdout",
     "output_type": "stream",
     "text": [
      "[1] \"Asia\"         \"Tubercolosys\" \"Smoke\"        \"LungCancer\"   \"Bronchitis\"  \n",
      "[6] \"Either\"       \"X-ray\"        \"Dyspnea\"     \n"
     ]
    },
    {
     "data": {
      "text/html": [
       "<table class=\"dataframe\">\n",
       "<caption>A data.frame: 6 × 8</caption>\n",
       "<thead>\n",
       "\t<tr><th></th><th scope=col>Asia</th><th scope=col>Tubercolosys</th><th scope=col>Smoke</th><th scope=col>LungCancer</th><th scope=col>Bronchitis</th><th scope=col>Either</th><th scope=col>X-ray</th><th scope=col>Dyspnea</th></tr>\n",
       "\t<tr><th></th><th scope=col>&lt;dbl&gt;</th><th scope=col>&lt;dbl&gt;</th><th scope=col>&lt;dbl&gt;</th><th scope=col>&lt;dbl&gt;</th><th scope=col>&lt;dbl&gt;</th><th scope=col>&lt;dbl&gt;</th><th scope=col>&lt;dbl&gt;</th><th scope=col>&lt;dbl&gt;</th></tr>\n",
       "</thead>\n",
       "<tbody>\n",
       "\t<tr><th scope=row>1</th><td>2</td><td>2</td><td>1</td><td>1</td><td>1</td><td>2</td><td>1</td><td>2</td></tr>\n",
       "\t<tr><th scope=row>2</th><td>2</td><td>1</td><td>1</td><td>1</td><td>1</td><td>1</td><td>2</td><td>1</td></tr>\n",
       "\t<tr><th scope=row>3</th><td>1</td><td>1</td><td>2</td><td>1</td><td>1</td><td>1</td><td>2</td><td>1</td></tr>\n",
       "\t<tr><th scope=row>4</th><td>2</td><td>1</td><td>2</td><td>1</td><td>1</td><td>1</td><td>2</td><td>1</td></tr>\n",
       "\t<tr><th scope=row>5</th><td>2</td><td>1</td><td>2</td><td>1</td><td>1</td><td>1</td><td>1</td><td>2</td></tr>\n",
       "\t<tr><th scope=row>6</th><td>2</td><td>1</td><td>2</td><td>1</td><td>1</td><td>1</td><td>2</td><td>2</td></tr>\n",
       "</tbody>\n",
       "</table>\n"
      ],
      "text/latex": [
       "A data.frame: 6 × 8\n",
       "\\begin{tabular}{r|llllllll}\n",
       "  & Asia & Tubercolosys & Smoke & LungCancer & Bronchitis & Either & X-ray & Dyspnea\\\\\n",
       "  & <dbl> & <dbl> & <dbl> & <dbl> & <dbl> & <dbl> & <dbl> & <dbl>\\\\\n",
       "\\hline\n",
       "\t1 & 2 & 2 & 1 & 1 & 1 & 2 & 1 & 2\\\\\n",
       "\t2 & 2 & 1 & 1 & 1 & 1 & 1 & 2 & 1\\\\\n",
       "\t3 & 1 & 1 & 2 & 1 & 1 & 1 & 2 & 1\\\\\n",
       "\t4 & 2 & 1 & 2 & 1 & 1 & 1 & 2 & 1\\\\\n",
       "\t5 & 2 & 1 & 2 & 1 & 1 & 1 & 1 & 2\\\\\n",
       "\t6 & 2 & 1 & 2 & 1 & 1 & 1 & 2 & 2\\\\\n",
       "\\end{tabular}\n"
      ],
      "text/markdown": [
       "\n",
       "A data.frame: 6 × 8\n",
       "\n",
       "| <!--/--> | Asia &lt;dbl&gt; | Tubercolosys &lt;dbl&gt; | Smoke &lt;dbl&gt; | LungCancer &lt;dbl&gt; | Bronchitis &lt;dbl&gt; | Either &lt;dbl&gt; | X-ray &lt;dbl&gt; | Dyspnea &lt;dbl&gt; |\n",
       "|---|---|---|---|---|---|---|---|---|\n",
       "| 1 | 2 | 2 | 1 | 1 | 1 | 2 | 1 | 2 |\n",
       "| 2 | 2 | 1 | 1 | 1 | 1 | 1 | 2 | 1 |\n",
       "| 3 | 1 | 1 | 2 | 1 | 1 | 1 | 2 | 1 |\n",
       "| 4 | 2 | 1 | 2 | 1 | 1 | 1 | 2 | 1 |\n",
       "| 5 | 2 | 1 | 2 | 1 | 1 | 1 | 1 | 2 |\n",
       "| 6 | 2 | 1 | 2 | 1 | 1 | 1 | 2 | 2 |\n",
       "\n"
      ],
      "text/plain": [
       "  Asia Tubercolosys Smoke LungCancer Bronchitis Either X-ray Dyspnea\n",
       "1 2    2            1     1          1          2      1     2      \n",
       "2 2    1            1     1          1          1      2     1      \n",
       "3 1    1            2     1          1          1      2     1      \n",
       "4 2    1            2     1          1          1      2     1      \n",
       "5 2    1            2     1          1          1      1     2      \n",
       "6 2    1            2     1          1          1      2     2      "
      ]
     },
     "metadata": {},
     "output_type": "display_data"
    }
   ],
   "source": [
    "asia_df <- asia() |> # S4 object\n",
    "  impute() |> # Impute the dataset to remove missing values\n",
    "  imputed.data() |> # Extract the imputed dataset\n",
    "  as.data.frame() # Convert to a data frame\n",
    "\n",
    "# Set the column names\n",
    "colnames(asia_df) <- asia()@variables\n",
    "print(colnames(asia_df))\n",
    "\n",
    "head(asia_df)"
   ]
  },
  {
   "cell_type": "code",
   "execution_count": 10,
   "metadata": {
    "vscode": {
     "languageId": "r"
    }
   },
   "outputs": [
    {
     "name": "stdout",
     "output_type": "stream",
     "text": [
      "[1] \"Score:  26679.2048334832\"\n"
     ]
    }
   ],
   "source": [
    "#res <- K2_to_dag(asia_df, max_parents=3)\n",
    "res <- K2_pipeline(asia_df, max_parents=3, max_iter=3)\n",
    "print(paste(\"Score: \", res$score))"
   ]
  },
  {
   "cell_type": "code",
   "execution_count": 11,
   "metadata": {
    "vscode": {
     "languageId": "r"
    }
   },
   "outputs": [
    {
     "data": {
      "image/png": "[encoded data removed]",
      "text/plain": [
       "plot without title"
      ]
     },
     "metadata": {
      "image/png": {
       "height": 420,
       "width": 420
      }
     },
     "output_type": "display_data"
    }
   ],
   "source": [
    "dag <- res$dag\n",
    "graphviz.plot(dag, shape=\"circle\")"
   ]
  },
  {
   "cell_type": "markdown",
   "metadata": {},
   "source": [
    "### SACHS"
   ]
  },
  {
   "cell_type": "code",
   "execution_count": 12,
   "metadata": {
    "vscode": {
     "languageId": "r"
    }
   },
   "outputs": [
    {
     "name": "stderr",
     "output_type": "stream",
     "text": [
      "`curl` package not installed, falling back to using `url()`\n"
     ]
    },
    {
     "data": {
      "text/html": [
       "<table class=\"dataframe\">\n",
       "<caption>A tibble: 6 × 11</caption>\n",
       "<thead>\n",
       "\t<tr><th scope=col>Akt</th><th scope=col>Erk</th><th scope=col>Jnk</th><th scope=col>Mek</th><th scope=col>P38</th><th scope=col>PIP2</th><th scope=col>PIP3</th><th scope=col>PKA</th><th scope=col>PKC</th><th scope=col>Plcg</th><th scope=col>Raf</th></tr>\n",
       "\t<tr><th scope=col>&lt;dbl&gt;</th><th scope=col>&lt;dbl&gt;</th><th scope=col>&lt;dbl&gt;</th><th scope=col>&lt;dbl&gt;</th><th scope=col>&lt;dbl&gt;</th><th scope=col>&lt;dbl&gt;</th><th scope=col>&lt;dbl&gt;</th><th scope=col>&lt;dbl&gt;</th><th scope=col>&lt;dbl&gt;</th><th scope=col>&lt;dbl&gt;</th><th scope=col>&lt;dbl&gt;</th></tr>\n",
       "</thead>\n",
       "<tbody>\n",
       "\t<tr><td>1</td><td>1</td><td>1</td><td>1</td><td>1</td><td>1</td><td>2</td><td>2</td><td>3</td><td>1</td><td>1</td></tr>\n",
       "\t<tr><td>1</td><td>2</td><td>1</td><td>1</td><td>2</td><td>1</td><td>2</td><td>2</td><td>2</td><td>1</td><td>1</td></tr>\n",
       "\t<tr><td>1</td><td>1</td><td>3</td><td>1</td><td>3</td><td>2</td><td>2</td><td>1</td><td>1</td><td>3</td><td>3</td></tr>\n",
       "\t<tr><td>1</td><td>2</td><td>1</td><td>1</td><td>1</td><td>1</td><td>3</td><td>3</td><td>1</td><td>1</td><td>2</td></tr>\n",
       "\t<tr><td>1</td><td>2</td><td>1</td><td>1</td><td>1</td><td>1</td><td>3</td><td>2</td><td>2</td><td>2</td><td>1</td></tr>\n",
       "\t<tr><td>1</td><td>2</td><td>2</td><td>2</td><td>1</td><td>1</td><td>1</td><td>2</td><td>2</td><td>1</td><td>2</td></tr>\n",
       "</tbody>\n",
       "</table>\n"
      ],
      "text/latex": [
       "A tibble: 6 × 11\n",
       "\\begin{tabular}{lllllllllll}\n",
       " Akt & Erk & Jnk & Mek & P38 & PIP2 & PIP3 & PKA & PKC & Plcg & Raf\\\\\n",
       " <dbl> & <dbl> & <dbl> & <dbl> & <dbl> & <dbl> & <dbl> & <dbl> & <dbl> & <dbl> & <dbl>\\\\\n",
       "\\hline\n",
       "\t 1 & 1 & 1 & 1 & 1 & 1 & 2 & 2 & 3 & 1 & 1\\\\\n",
       "\t 1 & 2 & 1 & 1 & 2 & 1 & 2 & 2 & 2 & 1 & 1\\\\\n",
       "\t 1 & 1 & 3 & 1 & 3 & 2 & 2 & 1 & 1 & 3 & 3\\\\\n",
       "\t 1 & 2 & 1 & 1 & 1 & 1 & 3 & 3 & 1 & 1 & 2\\\\\n",
       "\t 1 & 2 & 1 & 1 & 1 & 1 & 3 & 2 & 2 & 2 & 1\\\\\n",
       "\t 1 & 2 & 2 & 2 & 1 & 1 & 1 & 2 & 2 & 1 & 2\\\\\n",
       "\\end{tabular}\n"
      ],
      "text/markdown": [
       "\n",
       "A tibble: 6 × 11\n",
       "\n",
       "| Akt &lt;dbl&gt; | Erk &lt;dbl&gt; | Jnk &lt;dbl&gt; | Mek &lt;dbl&gt; | P38 &lt;dbl&gt; | PIP2 &lt;dbl&gt; | PIP3 &lt;dbl&gt; | PKA &lt;dbl&gt; | PKC &lt;dbl&gt; | Plcg &lt;dbl&gt; | Raf &lt;dbl&gt; |\n",
       "|---|---|---|---|---|---|---|---|---|---|---|\n",
       "| 1 | 1 | 1 | 1 | 1 | 1 | 2 | 2 | 3 | 1 | 1 |\n",
       "| 1 | 2 | 1 | 1 | 2 | 1 | 2 | 2 | 2 | 1 | 1 |\n",
       "| 1 | 1 | 3 | 1 | 3 | 2 | 2 | 1 | 1 | 3 | 3 |\n",
       "| 1 | 2 | 1 | 1 | 1 | 1 | 3 | 3 | 1 | 1 | 2 |\n",
       "| 1 | 2 | 1 | 1 | 1 | 1 | 3 | 2 | 2 | 2 | 1 |\n",
       "| 1 | 2 | 2 | 2 | 1 | 1 | 1 | 2 | 2 | 1 | 2 |\n",
       "\n"
      ],
      "text/plain": [
       "  Akt Erk Jnk Mek P38 PIP2 PIP3 PKA PKC Plcg Raf\n",
       "1 1   1   1   1   1   1    2    2   3   1    1  \n",
       "2 1   2   1   1   2   1    2    2   2   1    1  \n",
       "3 1   1   3   1   3   2    2    1   1   3    3  \n",
       "4 1   2   1   1   1   1    3    3   1   1    2  \n",
       "5 1   2   1   1   1   1    3    2   2   2    1  \n",
       "6 1   2   2   2   1   1    1    2   2   1    2  "
      ]
     },
     "metadata": {},
     "output_type": "display_data"
    }
   ],
   "source": [
    "sachs_df <- read_csv('https://www.ccd.pitt.edu/wiki/images/SACHS10k.csv', show_col_types = FALSE)\n",
    "head(sachs_df)"
   ]
  },
  {
   "cell_type": "code",
   "execution_count": 13,
   "metadata": {
    "vscode": {
     "languageId": "r"
    }
   },
   "outputs": [
    {
     "name": "stdout",
     "output_type": "stream",
     "text": [
      "[1] \"Score:  -95221.033871598\"\n"
     ]
    }
   ],
   "source": [
    "#res <- K2_to_dag(sachs_df, max_parents=3)\n",
    "res <- K2_pipeline(sachs_df, max_parents=3, max_iter=3)\n",
    "print(paste(\"Score: \", res$score))"
   ]
  },
  {
   "cell_type": "code",
   "execution_count": 14,
   "metadata": {
    "vscode": {
     "languageId": "r"
    }
   },
   "outputs": [
    {
     "data": {
      "image/png": "[encoded data removed]",
      "text/plain": [
       "plot without title"
      ]
     },
     "metadata": {
      "image/png": {
       "height": 420,
       "width": 420
      }
     },
     "output_type": "display_data"
    }
   ],
   "source": [
    "dag <- res$dag\n",
    "graphviz.plot(dag, shape=\"circle\")"
   ]
  },
  {
   "cell_type": "markdown",
   "metadata": {},
   "source": [
    "## Comparisons and Analysis"
   ]
  },
  {
   "cell_type": "code",
   "execution_count": 15,
   "metadata": {
    "vscode": {
     "languageId": "r"
    }
   },
   "outputs": [],
   "source": [
    "datasets <- list(\n",
    "  asia = asia_df,\n",
    "  child = child_df,\n",
    "  sachs = sachs_df\n",
    ")"
   ]
  },
  {
   "cell_type": "markdown",
   "metadata": {},
   "source": [
    "### Number of iterations"
   ]
  },
  {
   "cell_type": "code",
   "execution_count": 16,
   "metadata": {
    "vscode": {
     "languageId": "r"
    }
   },
   "outputs": [
    {
     "ename": "",
     "evalue": "",
     "output_type": "error",
     "traceback": [
      "\u001b[1;31mThe Kernel crashed while executing code in the current cell or a previous cell. \n",
      "\u001b[1;31mPlease review the code in the cell(s) to identify a possible cause of the failure. \n",
      "\u001b[1;31mClick <a href='https://aka.ms/vscodeJupyterKernelCrash'>here</a> for more info. \n",
      "\u001b[1;31mView Jupyter <a href='command:jupyter.viewOutput'>log</a> for further details."
     ]
    }
   ],
   "source": [
    "# Helper function to get the rescaled history from a dataset\n",
    "get_rescaled_history <- function(data, iters){\n",
    "  res <- K2_pipeline(data, max_parents=3, max_iter=iters, mode=\"local\", return_history=TRUE)\n",
    "  hist <- res$history\n",
    "  if (min(hist) == max(hist)){\n",
    "    hist <- array(data = 1, dim = c(iters))\n",
    "  } else {\n",
    "    hist <- (hist - min(hist)) / (max(hist) - min(hist))\n",
    "  }\n",
    "  return(hist)\n",
    "}"
   ]
  },
  {
   "cell_type": "code",
   "execution_count": 17,
   "metadata": {
    "vscode": {
     "languageId": "r"
    }
   },
   "outputs": [],
   "source": [
    "n_realizations <- 5\n",
    "\n",
    "# Create the long-format data frame\n",
    "results <- map2_df(\n",
    "  names(datasets), datasets,\n",
    "  ~ {\n",
    "    # Loop over each realization\n",
    "    map_df(1:n_realizations, function(realization_id) {\n",
    "      # Generate the time series scores\n",
    "      hist <- get_rescaled_history(.y, 15)\n",
    "      \n",
    "      # Create a data frame for the current realization\n",
    "      data.frame(\n",
    "        dataset_id = .x,               # The name of the current dataset\n",
    "        realization_id = realization_id, # Current realization index\n",
    "        time_point = seq_along(hist), # Iterations\n",
    "        score = hist            # The scores for each time point\n",
    "      )\n",
    "    })\n",
    "  }\n",
    ")\n",
    "\n",
    "# Save the data frame to an RDS file\n",
    "saveRDS(results, file = \"./temp_data/convergenceK2.rds\")"
   ]
  },
  {
   "cell_type": "code",
   "execution_count": 15,
   "metadata": {
    "vscode": {
     "languageId": "r"
    }
   },
   "outputs": [],
   "source": [
    "# Load the data frame from the RDS file\n",
    "results <- readRDS(\"./temp_data/convergenceK2.rds\")"
   ]
  },
  {
   "cell_type": "code",
   "execution_count": 16,
   "metadata": {
    "vscode": {
     "languageId": "r"
    }
   },
   "outputs": [],
   "source": [
    "# Summarize the results\n",
    "summary_stats <- results |>\n",
    "  group_by(dataset_id, time_point) |>\n",
    "  summarize(\n",
    "    mean_score = mean(score),\n",
    "    sd_score = sd(score),\n",
    "    .groups = 'drop'\n",
    "  )"
   ]
  },
  {
   "cell_type": "code",
   "execution_count": 17,
   "metadata": {
    "vscode": {
     "languageId": "r"
    }
   },
   "outputs": [
    {
     "data": {
      "image/png": "[encoded data removed]",
      "text/plain": [
       "plot without title"
      ]
     },
     "metadata": {
      "image/png": {
       "height": 420,
       "width": 420
      }
     },
     "output_type": "display_data"
    }
   ],
   "source": [
    "# Plot the analysis about the convergence\n",
    "ggplot(summary_stats, aes(x = time_point, y = mean_score, color = dataset_id)) +\n",
    "  geom_line(linewidth = 1) +  # Line plot\n",
    "  geom_point(size = 2) +  # Points\n",
    "  geom_errorbar(aes(ymin = mean_score - sd_score, ymax = mean_score + sd_score), \n",
    "                width = 0.4) +  # Error bars\n",
    "  labs(title = \"k2 convergence analysis\",\n",
    "       x = \"Iteration\",\n",
    "       y = \"Rescaled Score\") +\n",
    "  theme_minimal()\n"
   ]
  },
  {
   "cell_type": "markdown",
   "metadata": {},
   "source": [
    "### Number of parents"
   ]
  },
  {
   "cell_type": "code",
   "execution_count": null,
   "metadata": {
    "vscode": {
     "languageId": "r"
    }
   },
   "outputs": [],
   "source": [
    "n_realizations <- 5\n",
    "\n",
    "# Create the long-format data frame\n",
    "results <- map2_df(\n",
    "  names(datasets), datasets,\n",
    "  ~ {\n",
    "    # Loop over each realization\n",
    "    map_df(1:n_realizations, function(realization_id) {\n",
    "\n",
    "      map_df(1:5, function(max_parents) {\n",
    "        # Generate the scores\n",
    "        res <- K2_pipeline(.y, max_parents=max_parents, \n",
    "                           max_iter=10, mode=\"local\")\n",
    "        score <- res$score\n",
    "        \n",
    "        # Create a data frame for the current realization\n",
    "        data.frame(\n",
    "          dataset_id = .x,               # The name of the current dataset\n",
    "          realization_id = realization_id, # Current realization index\n",
    "          score = score,            # The scores for each time point\n",
    "          max_parents = max_parents # The maximum number of parents\n",
    "        )\n",
    "      })\n",
    "\n",
    "    })\n",
    "  }\n",
    ")\n",
    "\n",
    "# Save the data frame to an RDS file\n",
    "saveRDS(results, file = \"./temp_data/parentsK2.rds\")"
   ]
  },
  {
   "cell_type": "code",
   "execution_count": 18,
   "metadata": {
    "vscode": {
     "languageId": "r"
    }
   },
   "outputs": [],
   "source": [
    "# Load the data frame from the RDS file\n",
    "results <- readRDS(\"./temp_data/parentsK2.rds\")"
   ]
  },
  {
   "cell_type": "code",
   "execution_count": 19,
   "metadata": {
    "vscode": {
     "languageId": "r"
    }
   },
   "outputs": [],
   "source": [
    "# Summarize the results\n",
    "summary_stats <- results |>\n",
    "  group_by(dataset_id, max_parents) |>\n",
    "  summarize(\n",
    "    mean_score = mean(score),\n",
    "    sd_score = sd(score),\n",
    "    .groups = 'drop'\n",
    "  )"
   ]
  },
  {
   "cell_type": "code",
   "execution_count": 20,
   "metadata": {
    "vscode": {
     "languageId": "r"
    }
   },
   "outputs": [
    {
     "data": {
      "image/png": "[encoded data removed]",
      "text/plain": [
       "plot without title"
      ]
     },
     "metadata": {
      "image/png": {
       "height": 420,
       "width": 420
      }
     },
     "output_type": "display_data"
    }
   ],
   "source": [
    "# Plot the analysis about the convergence\n",
    "ggplot(summary_stats, aes(x = max_parents, y = mean_score, color = dataset_id)) +\n",
    "  geom_line(linewidth = 1) +  # Line plot\n",
    "  geom_point(size = 2) +  # Points\n",
    "  geom_errorbar(aes(ymin = mean_score - sd_score, ymax = mean_score + sd_score), \n",
    "                width = 0.4) +  # Error bars\n",
    "  labs(title = \"k2 convergence analysis\",\n",
    "       x = \"Max Parents\",\n",
    "       y = \"Score\") +\n",
    "  theme_minimal()\n"
   ]
  },
  {
   "cell_type": "markdown",
   "metadata": {},
   "source": [
    "## BNSTRUCT IMPLEMENTATION"
   ]
  },
  {
   "cell_type": "markdown",
   "metadata": {},
   "source": [
    "We show the results with using bnstruct to compute the best dag using as example the Child Data set"
   ]
  },
  {
   "cell_type": "code",
   "execution_count": 21,
   "metadata": {
    "vscode": {
     "languageId": "r"
    }
   },
   "outputs": [
    {
     "name": "stderr",
     "output_type": "stream",
     "text": [
      "bnstruct :: HC uses 'max.fanin' and 'layer.struct' parameters, but apparently you set 'max.parents' and 'max.parents.layers', changing accordingly.\n",
      "\n",
      "bnstruct :: learning the structure using HC ...\n",
      "\n",
      "bnstruct :: learning using HC completed.\n",
      "\n",
      "bnstruct :: learning network parameters ... \n",
      "\n",
      "bnstruct :: parameter learning done.\n",
      "\n",
      "bnstruct :: learning the structure using SM ...\n",
      "\n",
      "bnstruct :: learning using SM completed.\n",
      "\n",
      "bnstruct :: learning network parameters ... \n",
      "\n",
      "bnstruct :: parameter learning done.\n",
      "\n",
      "bnstruct :: MMPC uses 'max.fanin', but apparently you set 'max.parents', changing accordingly.\n",
      "\n",
      "bnstruct :: learning the structure using MMPC ...\n",
      "\n",
      "bnstruct :: learning using MMPC completed.\n",
      "\n",
      "bnstruct :: learning the structure using MMHC ...\n",
      "\n",
      "bnstruct :: learning using MMHC completed.\n",
      "\n",
      "bnstruct :: learning network parameters ... \n",
      "\n",
      "bnstruct :: parameter learning done.\n",
      "\n",
      "bnstruct :: learning the structure using SEM ...\n",
      "\n",
      "... bnstruct :: no missing values found, learning the network once\n",
      "\n",
      "... bnstruct :: learning the structure using MMHC ...\n",
      "\n",
      "... bnstruct :: learning using MMHC completed.\n",
      "\n",
      "... bnstruct :: learning network parameters ... \n",
      "\n",
      "... bnstruct :: parameter learning done.\n",
      "\n",
      "bnstruct :: learning using SEM completed.\n",
      "\n",
      "bnstruct :: learning network parameters ... \n",
      "\n",
      "bnstruct :: parameter learning done.\n",
      "\n"
     ]
    }
   ],
   "source": [
    "# Define a vector of algorithms to be used for learning the DAGs\n",
    "algorithms <- c(\"hc\", \"sm\", \"mmpc\", \"mmhc\", \"sem\")\n",
    "\n",
    "# Initialize empty lists to store the DAGs and their scores\n",
    "dag_listChild <- list()\n",
    "score_listChild <- list()\n",
    "\n",
    "# Loop through each algorithm in the algorithms vector\n",
    "for (algo in algorithms) {\n",
    "  # Learn the DAG using the specified algorithm and parameters\n",
    "  dagChild <- learning(child_df, maxParent=5, algo = algo, percentage = 1, plot = F)\n",
    "  \n",
    "  # Store the learned DAG in the dag_listAsia list, using the algorithm name as the key\n",
    "  dag_listChild[[algo]] <- dagChild$dag\n",
    "  \n",
    "  # Store the score of the learned DAG in the score_listAsia list, using the algorithm name as the key\n",
    "  score_listChild[[algo]] <- dagChild$score\n",
    "}"
   ]
  },
  {
   "cell_type": "code",
   "execution_count": 22,
   "metadata": {
    "vscode": {
     "languageId": "r"
    }
   },
   "outputs": [
    {
     "data": {
      "image/png": "[encoded data removed]",
      "text/plain": [
       "plot without title"
      ]
     },
     "metadata": {
      "image/png": {
       "height": 420,
       "width": 420
      }
     },
     "output_type": "display_data"
    },
    {
     "data": {
      "image/png": "[encoded data removed]",
      "text/plain": [
       "plot without title"
      ]
     },
     "metadata": {
      "image/png": {
       "height": 420,
       "width": 420
      }
     },
     "output_type": "display_data"
    },
    {
     "data": {
      "image/png": "[encoded data removed]",
      "text/plain": [
       "plot without title"
      ]
     },
     "metadata": {
      "image/png": {
       "height": 420,
       "width": 420
      }
     },
     "output_type": "display_data"
    },
    {
     "data": {
      "image/png": "[encoded data removed]",
      "text/plain": [
       "plot without title"
      ]
     },
     "metadata": {
      "image/png": {
       "height": 420,
       "width": 420
      }
     },
     "output_type": "display_data"
    },
    {
     "data": {
      "image/png": "[encoded data removed]",
      "text/plain": [
       "plot without title"
      ]
     },
     "metadata": {
      "image/png": {
       "height": 420,
       "width": 420
      }
     },
     "output_type": "display_data"
    },
    {
     "data": {
      "text/html": [
       "<style>\n",
       ".dl-inline {width: auto; margin:0; padding: 0}\n",
       ".dl-inline>dt, .dl-inline>dd {float: none; width: auto; display: inline-block}\n",
       ".dl-inline>dt::after {content: \":\\0020\"; padding-right: .5ex}\n",
       ".dl-inline>dt:not(:first-of-type) {padding-left: .5ex}\n",
       "</style><dl class=dl-inline><dt>hc</dt><dd>38</dd><dt>sm</dt><dd>38</dd><dt>mmpc</dt><dd>19</dd><dt>mmhc</dt><dd>38</dd><dt>sem</dt><dd>38</dd></dl>\n"
      ],
      "text/latex": [
       "\\begin{description*}\n",
       "\\item[hc] 38\n",
       "\\item[sm] 38\n",
       "\\item[mmpc] 19\n",
       "\\item[mmhc] 38\n",
       "\\item[sem] 38\n",
       "\\end{description*}\n"
      ],
      "text/markdown": [
       "hc\n",
       ":   38sm\n",
       ":   38mmpc\n",
       ":   19mmhc\n",
       ":   38sem\n",
       ":   38\n",
       "\n"
      ],
      "text/plain": [
       "  hc   sm mmpc mmhc  sem \n",
       "  38   38   19   38   38 "
      ]
     },
     "metadata": {},
     "output_type": "display_data"
    },
    {
     "data": {
      "image/png": "[encoded data removed]",
      "text/plain": [
       "plot without title"
      ]
     },
     "metadata": {
      "image/png": {
       "height": 420,
       "width": 420
      }
     },
     "output_type": "display_data"
    }
   ],
   "source": [
    "# Define the theoretical DAG using the model2network function\n",
    "theorDAG <- model2network(\"[BirthAsphyxia][Disease|BirthAsphyxia][Sick|Disease][DuctFlow|Disease][CardiacMixing|Disease][LungParench|Disease][LungFlow|Disease][LVH|Disease][Age|Sick][Grunting|Sick][HypDistrib|DuctFlow][HypoxiaInO2|CardiacMixing][CO2|LungParench][ChestXray|LungFlow][LVHReport|LVH][GruntingReport|Age][LowerBodyO2|HypDistrib][RUQO2|HypoxiaInO2][CO2Report|CO2][XrayReport|ChestXray]\")\n",
    "\n",
    "# Assign the list of learned DAGs to a variable\n",
    "listChild <- dag_listChild\n",
    "\n",
    "# Compute the Structural Hamming Distance (SHD) between the theoretical DAG and the list of learned DAGs\n",
    "# Also, plot the comparison between the theoretical DAG and each learned DAG\n",
    "computeShd(theorDAG, dag_listChild, plot = T)\n",
    "theorDAG_child <- theorDAG"
   ]
  },
  {
   "cell_type": "markdown",
   "metadata": {},
   "source": [
    "These plots show the the DAG, the colors indicate the differences between the theoretical one from Bnlearn and the empirical one obtain with the algorithm.\n",
    "The different plots show different algorithms. It is also showed the shd, an index of how many differences are between two DAG"
   ]
  },
  {
   "cell_type": "markdown",
   "metadata": {},
   "source": [
    "## COMPARING OF DIFFERENT METHODS AND  CONDITIONAL PROBABILITY"
   ]
  },
  {
   "cell_type": "code",
   "execution_count": 26,
   "metadata": {
    "vscode": {
     "languageId": "r"
    }
   },
   "outputs": [],
   "source": [
    "res_child <- K2_pipeline(child_df, max_parents = 3, max_iter = 3)\n",
    "dag.child.k2 <- res_child$dag"
   ]
  },
  {
   "cell_type": "code",
   "execution_count": 33,
   "metadata": {
    "vscode": {
     "languageId": "r"
    }
   },
   "outputs": [
    {
     "data": {
      "image/png": "[encoded data removed]",
      "text/plain": [
       "Plot with title \"Comparison of SHDs - Child\""
      ]
     },
     "metadata": {
      "image/png": {
       "height": 420,
       "width": 420
      }
     },
     "output_type": "display_data"
    }
   ],
   "source": [
    "# shd plot\n",
    "theorDAG <- theorDAG_child\n",
    "computed <- lapply(dag_listChild, function(dag) computeShdSingle(theor = theorDAG, empir = dag))\n",
    "computed$k2 <- computeShdSingle(theor = theorDAG, empir = dag.child.k2)\n",
    "# Create a bar chart of the computed scores\n",
    "barplot(unlist(computed), names.arg = names(computed), xlab = \"Algorithm\", ylab = \"Distance\", main = \"Comparison of SHDs - Child\", col = \"green\")"
   ]
  },
  {
   "cell_type": "code",
   "execution_count": 35,
   "metadata": {
    "vscode": {
     "languageId": "r"
    }
   },
   "outputs": [
    {
     "ename": "ERROR",
     "evalue": "Error: oggetto 'bn_bayes' non trovato\n",
     "output_type": "error",
     "traceback": [
      "Error: oggetto 'bn_bayes' non trovato\nTraceback:\n"
     ]
    }
   ],
   "source": [
    "df <- data.frame(apply(child_df, c(1, 2), as.character), stringsAsFactors = TRUE)\n",
    "\n",
    "bn_bayes$th <- bn.fit(theorDAG, df, method = \"bayes\", iss = 10)\n",
    "bn_bayes$k2 <- bn.fit(theorDAG, df, method = \"bayes\", iss = 10)\n",
    "bn_bayes <- lapply(listChild, function(child) bn.fit(child, df, method = \"bayes\", iss = 10))\n",
    "lapply(bn_bayes, function(bayes) bn.fit.barchart(bayes$CO2, \"CO2\"))"
   ]
  },
  {
   "cell_type": "code",
   "execution_count": null,
   "metadata": {
    "vscode": {
     "languageId": "r"
    }
   },
   "outputs": [],
   "source": []
  }
 ],
 "metadata": {
  "kernelspec": {
   "display_name": "R",
   "language": "R",
   "name": "ir"
  },
  "language_info": {
   "codemirror_mode": "r",
   "file_extension": ".r",
   "mimetype": "text/x-r-source",
   "name": "R",
   "pygments_lexer": "r",
   "version": "4.4.1"
  }
 },
 "nbformat": 4,
 "nbformat_minor": 2
}
